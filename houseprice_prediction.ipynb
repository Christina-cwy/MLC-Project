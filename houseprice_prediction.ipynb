{
 "cells": [
  {
   "cell_type": "code",
   "execution_count": 1,
   "metadata": {
    "pycharm": {
     "is_executing": true
    }
   },
   "outputs": [],
   "source": [
    "import pandas as pd\n",
    "import seaborn as sns\n",
    "import matplotlib.pyplot as plt\n",
    "import numpy as np\n",
    "import tqdm\n",
    "import csv\n",
    "\n",
    "\n",
    "from sklearn.metrics import *\n",
    "\n",
    "import warnings\n",
    "warnings.filterwarnings('ignore')"
   ]
  },
  {
   "cell_type": "markdown",
   "metadata": {},
   "source": [
    "split train(2011-2016) and test(2017-2019)"
   ]
  },
  {
   "cell_type": "code",
   "execution_count": 2,
   "metadata": {
    "pycharm": {
     "is_executing": true,
     "name": "#%%\n"
    }
   },
   "outputs": [
    {
     "data": {
      "text/html": [
       "<div>\n",
       "<style scoped>\n",
       "    .dataframe tbody tr th:only-of-type {\n",
       "        vertical-align: middle;\n",
       "    }\n",
       "\n",
       "    .dataframe tbody tr th {\n",
       "        vertical-align: top;\n",
       "    }\n",
       "\n",
       "    .dataframe thead th {\n",
       "        text-align: right;\n",
       "    }\n",
       "</style>\n",
       "<table border=\"1\" class=\"dataframe\">\n",
       "  <thead>\n",
       "    <tr style=\"text-align: right;\">\n",
       "      <th></th>\n",
       "      <th>BOROUGH</th>\n",
       "      <th>BLOCK</th>\n",
       "      <th>LOT</th>\n",
       "      <th>BUILDING CLASS CATEGORY</th>\n",
       "      <th>ZIP CODE</th>\n",
       "      <th>RESIDENTIAL UNITS</th>\n",
       "      <th>COMMERCIAL UNITS</th>\n",
       "      <th>TOTAL UNITS</th>\n",
       "      <th>LAND SQUARE FEET</th>\n",
       "      <th>GROSS SQUARE FEET</th>\n",
       "      <th>TAX CLASS AT TIME OF SALE</th>\n",
       "      <th>YEAR BUILT</th>\n",
       "      <th>SALE DATE</th>\n",
       "      <th>SALE PRICE</th>\n",
       "      <th>PRICE_SQFT</th>\n",
       "    </tr>\n",
       "  </thead>\n",
       "  <tbody>\n",
       "    <tr>\n",
       "      <th>0</th>\n",
       "      <td>2</td>\n",
       "      <td>3039</td>\n",
       "      <td>64</td>\n",
       "      <td>01  ONE FAMILY HOMES</td>\n",
       "      <td>10458.0</td>\n",
       "      <td>1.0</td>\n",
       "      <td>0.0</td>\n",
       "      <td>1.0</td>\n",
       "      <td>1667.0</td>\n",
       "      <td>1296.0</td>\n",
       "      <td>1</td>\n",
       "      <td>1910.0</td>\n",
       "      <td>2011-01-19</td>\n",
       "      <td>329000</td>\n",
       "      <td>253.858025</td>\n",
       "    </tr>\n",
       "    <tr>\n",
       "      <th>1</th>\n",
       "      <td>2</td>\n",
       "      <td>3046</td>\n",
       "      <td>34</td>\n",
       "      <td>01  ONE FAMILY HOMES</td>\n",
       "      <td>10457.0</td>\n",
       "      <td>1.0</td>\n",
       "      <td>0.0</td>\n",
       "      <td>1.0</td>\n",
       "      <td>2060.0</td>\n",
       "      <td>1629.0</td>\n",
       "      <td>1</td>\n",
       "      <td>1899.0</td>\n",
       "      <td>2011-06-29</td>\n",
       "      <td>288500</td>\n",
       "      <td>177.102517</td>\n",
       "    </tr>\n",
       "    <tr>\n",
       "      <th>2</th>\n",
       "      <td>2</td>\n",
       "      <td>3048</td>\n",
       "      <td>28</td>\n",
       "      <td>01  ONE FAMILY HOMES</td>\n",
       "      <td>10457.0</td>\n",
       "      <td>1.0</td>\n",
       "      <td>0.0</td>\n",
       "      <td>1.0</td>\n",
       "      <td>1209.0</td>\n",
       "      <td>1048.0</td>\n",
       "      <td>1</td>\n",
       "      <td>1901.0</td>\n",
       "      <td>2011-03-21</td>\n",
       "      <td>122500</td>\n",
       "      <td>116.889313</td>\n",
       "    </tr>\n",
       "    <tr>\n",
       "      <th>3</th>\n",
       "      <td>2</td>\n",
       "      <td>4707</td>\n",
       "      <td>20</td>\n",
       "      <td>01  ONE FAMILY HOMES</td>\n",
       "      <td>10469.0</td>\n",
       "      <td>1.0</td>\n",
       "      <td>0.0</td>\n",
       "      <td>1.0</td>\n",
       "      <td>3203.0</td>\n",
       "      <td>1890.0</td>\n",
       "      <td>1</td>\n",
       "      <td>1945.0</td>\n",
       "      <td>2011-02-17</td>\n",
       "      <td>330000</td>\n",
       "      <td>174.603175</td>\n",
       "    </tr>\n",
       "    <tr>\n",
       "      <th>4</th>\n",
       "      <td>2</td>\n",
       "      <td>4707</td>\n",
       "      <td>74</td>\n",
       "      <td>01  ONE FAMILY HOMES</td>\n",
       "      <td>10469.0</td>\n",
       "      <td>1.0</td>\n",
       "      <td>0.0</td>\n",
       "      <td>1.0</td>\n",
       "      <td>1785.0</td>\n",
       "      <td>1018.0</td>\n",
       "      <td>1</td>\n",
       "      <td>1945.0</td>\n",
       "      <td>2011-02-16</td>\n",
       "      <td>288000</td>\n",
       "      <td>282.907662</td>\n",
       "    </tr>\n",
       "  </tbody>\n",
       "</table>\n",
       "</div>"
      ],
      "text/plain": [
       "   BOROUGH  BLOCK  LOT BUILDING CLASS CATEGORY  ZIP CODE  RESIDENTIAL UNITS  \\\n",
       "0        2   3039   64    01  ONE FAMILY HOMES   10458.0                1.0   \n",
       "1        2   3046   34    01  ONE FAMILY HOMES   10457.0                1.0   \n",
       "2        2   3048   28    01  ONE FAMILY HOMES   10457.0                1.0   \n",
       "3        2   4707   20    01  ONE FAMILY HOMES   10469.0                1.0   \n",
       "4        2   4707   74    01  ONE FAMILY HOMES   10469.0                1.0   \n",
       "\n",
       "   COMMERCIAL UNITS  TOTAL UNITS  LAND SQUARE FEET  GROSS SQUARE FEET  \\\n",
       "0               0.0          1.0            1667.0             1296.0   \n",
       "1               0.0          1.0            2060.0             1629.0   \n",
       "2               0.0          1.0            1209.0             1048.0   \n",
       "3               0.0          1.0            3203.0             1890.0   \n",
       "4               0.0          1.0            1785.0             1018.0   \n",
       "\n",
       "   TAX CLASS AT TIME OF SALE  YEAR BUILT   SALE DATE  SALE PRICE  PRICE_SQFT  \n",
       "0                          1      1910.0  2011-01-19      329000  253.858025  \n",
       "1                          1      1899.0  2011-06-29      288500  177.102517  \n",
       "2                          1      1901.0  2011-03-21      122500  116.889313  \n",
       "3                          1      1945.0  2011-02-17      330000  174.603175  \n",
       "4                          1      1945.0  2011-02-16      288000  282.907662  "
      ]
     },
     "execution_count": 2,
     "metadata": {},
     "output_type": "execute_result"
    }
   ],
   "source": [
    "\"\"\"read data\"\"\"\n",
    "datafilepath = \"../house_sales_2011_2019.csv\"\n",
    "dataset = pd.read_csv(datafilepath)\n",
    "dataset.head()"
   ]
  },
  {
   "cell_type": "code",
   "execution_count": 3,
   "metadata": {
    "pycharm": {
     "is_executing": true
    }
   },
   "outputs": [],
   "source": [
    "category2idx = list(enumerate(dataset['BUILDING CLASS CATEGORY'].unique()))\n",
    "category2idx\n",
    "category_idx_dict = {}\n",
    "for idx, category in category2idx:\n",
    "    category_idx_dict[category] = idx"
   ]
  },
  {
   "cell_type": "code",
   "execution_count": 4,
   "metadata": {
    "pycharm": {
     "is_executing": true
    }
   },
   "outputs": [],
   "source": [
    "dataset['BUILDING CLASS'] = dataset['BUILDING CLASS CATEGORY'].apply(lambda x:category_idx_dict[x])\n",
    "dataset['SALE YEAR'] = pd.DatetimeIndex(dataset['SALE DATE']).year"
   ]
  },
  {
   "cell_type": "code",
   "execution_count": 5,
   "metadata": {
    "pycharm": {
     "is_executing": true
    }
   },
   "outputs": [
    {
     "data": {
      "text/html": [
       "<div>\n",
       "<style scoped>\n",
       "    .dataframe tbody tr th:only-of-type {\n",
       "        vertical-align: middle;\n",
       "    }\n",
       "\n",
       "    .dataframe tbody tr th {\n",
       "        vertical-align: top;\n",
       "    }\n",
       "\n",
       "    .dataframe thead th {\n",
       "        text-align: right;\n",
       "    }\n",
       "</style>\n",
       "<table border=\"1\" class=\"dataframe\">\n",
       "  <thead>\n",
       "    <tr style=\"text-align: right;\">\n",
       "      <th></th>\n",
       "      <th>BOROUGH</th>\n",
       "      <th>BLOCK</th>\n",
       "      <th>LOT</th>\n",
       "      <th>BUILDING CLASS CATEGORY</th>\n",
       "      <th>ZIP CODE</th>\n",
       "      <th>RESIDENTIAL UNITS</th>\n",
       "      <th>COMMERCIAL UNITS</th>\n",
       "      <th>TOTAL UNITS</th>\n",
       "      <th>LAND SQUARE FEET</th>\n",
       "      <th>GROSS SQUARE FEET</th>\n",
       "      <th>TAX CLASS AT TIME OF SALE</th>\n",
       "      <th>YEAR BUILT</th>\n",
       "      <th>SALE DATE</th>\n",
       "      <th>SALE PRICE</th>\n",
       "      <th>PRICE_SQFT</th>\n",
       "      <th>BUILDING CLASS</th>\n",
       "      <th>SALE YEAR</th>\n",
       "    </tr>\n",
       "  </thead>\n",
       "  <tbody>\n",
       "    <tr>\n",
       "      <th>0</th>\n",
       "      <td>2</td>\n",
       "      <td>3039</td>\n",
       "      <td>64</td>\n",
       "      <td>01  ONE FAMILY HOMES</td>\n",
       "      <td>10458.0</td>\n",
       "      <td>1.0</td>\n",
       "      <td>0.0</td>\n",
       "      <td>1.0</td>\n",
       "      <td>1667.0</td>\n",
       "      <td>1296.0</td>\n",
       "      <td>1</td>\n",
       "      <td>1910.0</td>\n",
       "      <td>2011-01-19</td>\n",
       "      <td>329000</td>\n",
       "      <td>253.858025</td>\n",
       "      <td>0</td>\n",
       "      <td>2011</td>\n",
       "    </tr>\n",
       "    <tr>\n",
       "      <th>1</th>\n",
       "      <td>2</td>\n",
       "      <td>3046</td>\n",
       "      <td>34</td>\n",
       "      <td>01  ONE FAMILY HOMES</td>\n",
       "      <td>10457.0</td>\n",
       "      <td>1.0</td>\n",
       "      <td>0.0</td>\n",
       "      <td>1.0</td>\n",
       "      <td>2060.0</td>\n",
       "      <td>1629.0</td>\n",
       "      <td>1</td>\n",
       "      <td>1899.0</td>\n",
       "      <td>2011-06-29</td>\n",
       "      <td>288500</td>\n",
       "      <td>177.102517</td>\n",
       "      <td>0</td>\n",
       "      <td>2011</td>\n",
       "    </tr>\n",
       "    <tr>\n",
       "      <th>2</th>\n",
       "      <td>2</td>\n",
       "      <td>3048</td>\n",
       "      <td>28</td>\n",
       "      <td>01  ONE FAMILY HOMES</td>\n",
       "      <td>10457.0</td>\n",
       "      <td>1.0</td>\n",
       "      <td>0.0</td>\n",
       "      <td>1.0</td>\n",
       "      <td>1209.0</td>\n",
       "      <td>1048.0</td>\n",
       "      <td>1</td>\n",
       "      <td>1901.0</td>\n",
       "      <td>2011-03-21</td>\n",
       "      <td>122500</td>\n",
       "      <td>116.889313</td>\n",
       "      <td>0</td>\n",
       "      <td>2011</td>\n",
       "    </tr>\n",
       "    <tr>\n",
       "      <th>3</th>\n",
       "      <td>2</td>\n",
       "      <td>4707</td>\n",
       "      <td>20</td>\n",
       "      <td>01  ONE FAMILY HOMES</td>\n",
       "      <td>10469.0</td>\n",
       "      <td>1.0</td>\n",
       "      <td>0.0</td>\n",
       "      <td>1.0</td>\n",
       "      <td>3203.0</td>\n",
       "      <td>1890.0</td>\n",
       "      <td>1</td>\n",
       "      <td>1945.0</td>\n",
       "      <td>2011-02-17</td>\n",
       "      <td>330000</td>\n",
       "      <td>174.603175</td>\n",
       "      <td>0</td>\n",
       "      <td>2011</td>\n",
       "    </tr>\n",
       "    <tr>\n",
       "      <th>4</th>\n",
       "      <td>2</td>\n",
       "      <td>4707</td>\n",
       "      <td>74</td>\n",
       "      <td>01  ONE FAMILY HOMES</td>\n",
       "      <td>10469.0</td>\n",
       "      <td>1.0</td>\n",
       "      <td>0.0</td>\n",
       "      <td>1.0</td>\n",
       "      <td>1785.0</td>\n",
       "      <td>1018.0</td>\n",
       "      <td>1</td>\n",
       "      <td>1945.0</td>\n",
       "      <td>2011-02-16</td>\n",
       "      <td>288000</td>\n",
       "      <td>282.907662</td>\n",
       "      <td>0</td>\n",
       "      <td>2011</td>\n",
       "    </tr>\n",
       "  </tbody>\n",
       "</table>\n",
       "</div>"
      ],
      "text/plain": [
       "   BOROUGH  BLOCK  LOT BUILDING CLASS CATEGORY  ZIP CODE  RESIDENTIAL UNITS  \\\n",
       "0        2   3039   64    01  ONE FAMILY HOMES   10458.0                1.0   \n",
       "1        2   3046   34    01  ONE FAMILY HOMES   10457.0                1.0   \n",
       "2        2   3048   28    01  ONE FAMILY HOMES   10457.0                1.0   \n",
       "3        2   4707   20    01  ONE FAMILY HOMES   10469.0                1.0   \n",
       "4        2   4707   74    01  ONE FAMILY HOMES   10469.0                1.0   \n",
       "\n",
       "   COMMERCIAL UNITS  TOTAL UNITS  LAND SQUARE FEET  GROSS SQUARE FEET  \\\n",
       "0               0.0          1.0            1667.0             1296.0   \n",
       "1               0.0          1.0            2060.0             1629.0   \n",
       "2               0.0          1.0            1209.0             1048.0   \n",
       "3               0.0          1.0            3203.0             1890.0   \n",
       "4               0.0          1.0            1785.0             1018.0   \n",
       "\n",
       "   TAX CLASS AT TIME OF SALE  YEAR BUILT   SALE DATE  SALE PRICE  PRICE_SQFT  \\\n",
       "0                          1      1910.0  2011-01-19      329000  253.858025   \n",
       "1                          1      1899.0  2011-06-29      288500  177.102517   \n",
       "2                          1      1901.0  2011-03-21      122500  116.889313   \n",
       "3                          1      1945.0  2011-02-17      330000  174.603175   \n",
       "4                          1      1945.0  2011-02-16      288000  282.907662   \n",
       "\n",
       "   BUILDING CLASS  SALE YEAR  \n",
       "0               0       2011  \n",
       "1               0       2011  \n",
       "2               0       2011  \n",
       "3               0       2011  \n",
       "4               0       2011  "
      ]
     },
     "execution_count": 5,
     "metadata": {},
     "output_type": "execute_result"
    }
   ],
   "source": [
    "dataset.head()"
   ]
  },
  {
   "cell_type": "code",
   "execution_count": 6,
   "metadata": {
    "pycharm": {
     "is_executing": true
    }
   },
   "outputs": [
    {
     "data": {
      "text/plain": [
       "Index(['BOROUGH', 'BLOCK', 'LOT', 'BUILDING CLASS CATEGORY', 'ZIP CODE',\n",
       "       'RESIDENTIAL UNITS', 'COMMERCIAL UNITS', 'TOTAL UNITS',\n",
       "       'LAND SQUARE FEET', 'GROSS SQUARE FEET', 'TAX CLASS AT TIME OF SALE',\n",
       "       'YEAR BUILT', 'SALE DATE', 'SALE PRICE', 'PRICE_SQFT', 'BUILDING CLASS',\n",
       "       'SALE YEAR'],\n",
       "      dtype='object')"
      ]
     },
     "execution_count": 6,
     "metadata": {},
     "output_type": "execute_result"
    }
   ],
   "source": [
    "dataset.columns"
   ]
  },
  {
   "cell_type": "code",
   "execution_count": 7,
   "metadata": {
    "pycharm": {
     "is_executing": true
    }
   },
   "outputs": [
    {
     "data": {
      "text/html": [
       "<div>\n",
       "<style scoped>\n",
       "    .dataframe tbody tr th:only-of-type {\n",
       "        vertical-align: middle;\n",
       "    }\n",
       "\n",
       "    .dataframe tbody tr th {\n",
       "        vertical-align: top;\n",
       "    }\n",
       "\n",
       "    .dataframe thead th {\n",
       "        text-align: right;\n",
       "    }\n",
       "</style>\n",
       "<table border=\"1\" class=\"dataframe\">\n",
       "  <thead>\n",
       "    <tr style=\"text-align: right;\">\n",
       "      <th></th>\n",
       "      <th>BOROUGH</th>\n",
       "      <th>BLOCK</th>\n",
       "      <th>LOT</th>\n",
       "      <th>ZIP CODE</th>\n",
       "      <th>RESIDENTIAL UNITS</th>\n",
       "      <th>COMMERCIAL UNITS</th>\n",
       "      <th>TOTAL UNITS</th>\n",
       "      <th>LAND SQUARE FEET</th>\n",
       "      <th>GROSS SQUARE FEET</th>\n",
       "      <th>YEAR BUILT</th>\n",
       "      <th>BUILDING CLASS</th>\n",
       "      <th>SALE YEAR</th>\n",
       "      <th>SALE PRICE</th>\n",
       "    </tr>\n",
       "  </thead>\n",
       "  <tbody>\n",
       "    <tr>\n",
       "      <th>0</th>\n",
       "      <td>2</td>\n",
       "      <td>3039</td>\n",
       "      <td>64</td>\n",
       "      <td>10458.0</td>\n",
       "      <td>1.0</td>\n",
       "      <td>0.0</td>\n",
       "      <td>1.0</td>\n",
       "      <td>1667.0</td>\n",
       "      <td>1296.0</td>\n",
       "      <td>1910.0</td>\n",
       "      <td>0</td>\n",
       "      <td>2011</td>\n",
       "      <td>329000</td>\n",
       "    </tr>\n",
       "    <tr>\n",
       "      <th>1</th>\n",
       "      <td>2</td>\n",
       "      <td>3046</td>\n",
       "      <td>34</td>\n",
       "      <td>10457.0</td>\n",
       "      <td>1.0</td>\n",
       "      <td>0.0</td>\n",
       "      <td>1.0</td>\n",
       "      <td>2060.0</td>\n",
       "      <td>1629.0</td>\n",
       "      <td>1899.0</td>\n",
       "      <td>0</td>\n",
       "      <td>2011</td>\n",
       "      <td>288500</td>\n",
       "    </tr>\n",
       "    <tr>\n",
       "      <th>2</th>\n",
       "      <td>2</td>\n",
       "      <td>3048</td>\n",
       "      <td>28</td>\n",
       "      <td>10457.0</td>\n",
       "      <td>1.0</td>\n",
       "      <td>0.0</td>\n",
       "      <td>1.0</td>\n",
       "      <td>1209.0</td>\n",
       "      <td>1048.0</td>\n",
       "      <td>1901.0</td>\n",
       "      <td>0</td>\n",
       "      <td>2011</td>\n",
       "      <td>122500</td>\n",
       "    </tr>\n",
       "    <tr>\n",
       "      <th>3</th>\n",
       "      <td>2</td>\n",
       "      <td>4707</td>\n",
       "      <td>20</td>\n",
       "      <td>10469.0</td>\n",
       "      <td>1.0</td>\n",
       "      <td>0.0</td>\n",
       "      <td>1.0</td>\n",
       "      <td>3203.0</td>\n",
       "      <td>1890.0</td>\n",
       "      <td>1945.0</td>\n",
       "      <td>0</td>\n",
       "      <td>2011</td>\n",
       "      <td>330000</td>\n",
       "    </tr>\n",
       "    <tr>\n",
       "      <th>4</th>\n",
       "      <td>2</td>\n",
       "      <td>4707</td>\n",
       "      <td>74</td>\n",
       "      <td>10469.0</td>\n",
       "      <td>1.0</td>\n",
       "      <td>0.0</td>\n",
       "      <td>1.0</td>\n",
       "      <td>1785.0</td>\n",
       "      <td>1018.0</td>\n",
       "      <td>1945.0</td>\n",
       "      <td>0</td>\n",
       "      <td>2011</td>\n",
       "      <td>288000</td>\n",
       "    </tr>\n",
       "  </tbody>\n",
       "</table>\n",
       "</div>"
      ],
      "text/plain": [
       "   BOROUGH  BLOCK  LOT  ZIP CODE  RESIDENTIAL UNITS  COMMERCIAL UNITS  \\\n",
       "0        2   3039   64   10458.0                1.0               0.0   \n",
       "1        2   3046   34   10457.0                1.0               0.0   \n",
       "2        2   3048   28   10457.0                1.0               0.0   \n",
       "3        2   4707   20   10469.0                1.0               0.0   \n",
       "4        2   4707   74   10469.0                1.0               0.0   \n",
       "\n",
       "   TOTAL UNITS  LAND SQUARE FEET  GROSS SQUARE FEET  YEAR BUILT  \\\n",
       "0          1.0            1667.0             1296.0      1910.0   \n",
       "1          1.0            2060.0             1629.0      1899.0   \n",
       "2          1.0            1209.0             1048.0      1901.0   \n",
       "3          1.0            3203.0             1890.0      1945.0   \n",
       "4          1.0            1785.0             1018.0      1945.0   \n",
       "\n",
       "   BUILDING CLASS  SALE YEAR  SALE PRICE  \n",
       "0               0       2011      329000  \n",
       "1               0       2011      288500  \n",
       "2               0       2011      122500  \n",
       "3               0       2011      330000  \n",
       "4               0       2011      288000  "
      ]
     },
     "execution_count": 7,
     "metadata": {},
     "output_type": "execute_result"
    }
   ],
   "source": [
    "dataset = dataset[['BOROUGH', 'BLOCK', 'LOT', 'ZIP CODE', 'RESIDENTIAL UNITS', 'COMMERCIAL UNITS', \n",
    "                   'TOTAL UNITS', 'LAND SQUARE FEET', 'GROSS SQUARE FEET', \n",
    "                   'YEAR BUILT', 'BUILDING CLASS','SALE YEAR', 'SALE PRICE']]\n",
    "dataset.head()"
   ]
  },
  {
   "cell_type": "markdown",
   "metadata": {},
   "source": [
    "## Analysis"
   ]
  },
  {
   "cell_type": "code",
   "execution_count": 8,
   "metadata": {
    "pycharm": {
     "is_executing": true
    }
   },
   "outputs": [
    {
     "data": {
      "image/png": "[encoded data removed]",
      "text/plain": [
       "<Figure size 720x720 with 4 Axes>"
      ]
     },
     "metadata": {
      "needs_background": "light"
     },
     "output_type": "display_data"
    }
   ],
   "source": [
    "def corrplot(df, method=\"pearson\", annot=True, **kwargs):\n",
    "    sns.clustermap(\n",
    "        df.corr(method),\n",
    "#         vmin=-1.0,\n",
    "#         vmax=1.0,\n",
    "        cmap=\"YlGnBu\",\n",
    "#         method=\"complete\",\n",
    "        annot=annot,\n",
    "        **kwargs,\n",
    "    )\n",
    "\n",
    "\n",
    "corrplot(dataset, annot=None)"
   ]
  },
  {
   "cell_type": "code",
   "execution_count": 9,
   "metadata": {
    "pycharm": {
     "is_executing": true
    }
   },
   "outputs": [
    {
     "name": "stdout",
     "output_type": "stream",
     "text": [
      "visualization saleprice\n"
     ]
    },
    {
     "data": {
      "image/png": "[encoded data removed]",
      "text/plain": [
       "<Figure size 432x288 with 1 Axes>"
      ]
     },
     "metadata": {
      "needs_background": "light"
     },
     "output_type": "display_data"
    }
   ],
   "source": [
    "print(\"\"\"visualization saleprice\"\"\")\n",
    "SalePrice = dataset['SALE PRICE']\n",
    "sns.distplot(SalePrice)\n",
    "plt.title(\"saleprice-density\")\n",
    "plt.show()"
   ]
  },
  {
   "cell_type": "code",
   "execution_count": 10,
   "metadata": {
    "pycharm": {
     "is_executing": true
    }
   },
   "outputs": [
    {
     "name": "stdout",
     "output_type": "stream",
     "text": [
      "visualization saleprice\n"
     ]
    },
    {
     "data": {
      "image/png": "[encoded data removed]",
      "text/plain": [
       "<Figure size 432x288 with 1 Axes>"
      ]
     },
     "metadata": {
      "needs_background": "light"
     },
     "output_type": "display_data"
    }
   ],
   "source": [
    "print(\"\"\"visualization saleprice\"\"\")\n",
    "y = np.log1p(SalePrice)\n",
    "sns.distplot(y)\n",
    "plt.title(\"saleprice(log)-density\")\n",
    "plt.show()"
   ]
  },
  {
   "cell_type": "markdown",
   "metadata": {},
   "source": [
    "#####  Examine the correlations between variables, in particular which variables are associated with SalePrice\n"
   ]
  },
  {
   "cell_type": "code",
   "execution_count": 11,
   "metadata": {
    "pycharm": {
     "is_executing": true
    }
   },
   "outputs": [
    {
     "name": "stdout",
     "output_type": "stream",
     "text": [
      "According to the correlation matrix, the darker the color, the greater the correlation\n"
     ]
    },
    {
     "data": {
      "image/png": "[encoded data removed]",
      "text/plain": [
       "<Figure size 1296x1296 with 2 Axes>"
      ]
     },
     "metadata": {
      "needs_background": "light"
     },
     "output_type": "display_data"
    }
   ],
   "source": [
    "print(\"According to the correlation matrix, the darker the color, the greater the correlation\")\n",
    "correlation_matrix = dataset.corr()\n",
    "f, ax = plt.subplots(figsize=(18, 18))\n",
    "sns.heatmap(correlation_matrix, cmap=\"hot_r\", square=True)\n",
    "plt.title(\"correlation-matrix\")\n",
    "plt.show()"
   ]
  },
  {
   "cell_type": "code",
   "execution_count": 12,
   "metadata": {
    "pycharm": {
     "is_executing": true
    }
   },
   "outputs": [
    {
     "name": "stdout",
     "output_type": "stream",
     "text": [
      "Index(['BOROUGH', 'BLOCK', 'LOT', 'ZIP CODE', 'RESIDENTIAL UNITS',\n",
      "       'COMMERCIAL UNITS', 'TOTAL UNITS', 'LAND SQUARE FEET',\n",
      "       'GROSS SQUARE FEET', 'YEAR BUILT', 'BUILDING CLASS', 'SALE YEAR',\n",
      "       'SALE PRICE'],\n",
      "      dtype='object')\n",
      "[-1.71152737e-01 -1.53650265e-01 -4.67885148e-04  9.78547629e-02\n",
      "  2.27891212e-02  8.24802047e-02  6.13451177e-02  2.58635623e-01\n",
      "  5.60244828e-01 -5.16724054e-02  1.43612094e-01  1.55453856e-01\n",
      "  1.00000000e+00]\n"
     ]
    }
   ],
   "source": [
    "\"\"\"Find the top-k attributes associated with SalePrice\"\"\"\n",
    "feature_name = correlation_matrix.columns\n",
    "saleprice_feature = correlation_matrix.tail(1).values[0]\n",
    "print(feature_name)\n",
    "print(saleprice_feature)"
   ]
  },
  {
   "cell_type": "code",
   "execution_count": 13,
   "metadata": {
    "pycharm": {
     "is_executing": true
    }
   },
   "outputs": [
    {
     "name": "stdout",
     "output_type": "stream",
     "text": [
      "[('SALE PRICE', 1.0), ('GROSS SQUARE FEET', 0.5602448276498636), ('LAND SQUARE FEET', 0.25863562270198875), ('SALE YEAR', 0.15545385596631872), ('BUILDING CLASS', 0.14361209405917308), ('ZIP CODE', 0.09785476287512228), ('COMMERCIAL UNITS', 0.08248020472727415), ('TOTAL UNITS', 0.06134511768241562)]\n"
     ]
    }
   ],
   "source": [
    "\"\"\"The features related to SalePrice and the corresponding degree of correlation\"\"\"\n",
    "feature_corr_dict = {}\n",
    "for i in range(len(feature_name)):\n",
    "    feature_corr_dict[feature_name[i]] = saleprice_feature[i]\n",
    "k = 7\n",
    "sorted_feature_corr_dict = sorted(feature_corr_dict.items(), key=lambda item:item[1], reverse=True)[:k+1]\n",
    "print(sorted_feature_corr_dict)"
   ]
  },
  {
   "cell_type": "code",
   "execution_count": 14,
   "metadata": {
    "pycharm": {
     "is_executing": true
    }
   },
   "outputs": [
    {
     "data": {
      "image/png": "[encoded data removed]",
      "text/plain": [
       "<Figure size 648x648 with 2 Axes>"
      ]
     },
     "metadata": {},
     "output_type": "display_data"
    }
   ],
   "source": [
    "cols = [line[0] for line in sorted_feature_corr_dict]\n",
    "cm = np.corrcoef(dataset[cols].values.T)\n",
    "sns.set(font_scale=1.25)\n",
    "f, ax = plt.subplots(figsize=(9, 9))\n",
    "hm = sns.heatmap(cm, cbar=True, annot=True, cmap=\"YlGnBu\",\n",
    "                 square=True, fmt='.2f', annot_kws={'size': 10}, yticklabels=cols, xticklabels=cols)\n",
    "plt.show()"
   ]
  },
  {
   "cell_type": "code",
   "execution_count": 15,
   "metadata": {
    "pycharm": {
     "is_executing": true
    }
   },
   "outputs": [
    {
     "data": {
      "text/plain": [
       "['SALE PRICE',\n",
       " 'GROSS SQUARE FEET',\n",
       " 'LAND SQUARE FEET',\n",
       " 'SALE YEAR',\n",
       " 'BUILDING CLASS',\n",
       " 'ZIP CODE',\n",
       " 'COMMERCIAL UNITS',\n",
       " 'TOTAL UNITS']"
      ]
     },
     "execution_count": 15,
     "metadata": {},
     "output_type": "execute_result"
    }
   ],
   "source": [
    "cols"
   ]
  },
  {
   "cell_type": "markdown",
   "metadata": {},
   "source": [
    "## prepare dataset"
   ]
  },
  {
   "cell_type": "code",
   "execution_count": 16,
   "metadata": {
    "pycharm": {
     "is_executing": true
    }
   },
   "outputs": [],
   "source": [
    "# y = np.log1p(dataset[\"SALE PRICE\"])\n",
    "y = dataset[\"SALE PRICE\"]"
   ]
  },
  {
   "cell_type": "code",
   "execution_count": 17,
   "metadata": {
    "pycharm": {
     "is_executing": true
    }
   },
   "outputs": [],
   "source": [
    "X = dataset[['BOROUGH', 'BLOCK', 'LOT', 'ZIP CODE', 'RESIDENTIAL UNITS', 'COMMERCIAL UNITS', 'TOTAL UNITS', 'LAND SQUARE FEET','GROSS SQUARE FEET', 'YEAR BUILT', 'BUILDING CLASS', 'SALE YEAR']]"
   ]
  },
  {
   "cell_type": "code",
   "execution_count": 18,
   "metadata": {
    "pycharm": {
     "is_executing": true
    }
   },
   "outputs": [],
   "source": [
    "# from sklearn.preprocessing import StandardScaler,RobustScaler\n",
    "\n",
    "# # scaler=StandardScaler()\n",
    "# scaler=RobustScaler()\n",
    "# X=pd.DataFrame(scaler.fit_transform(X),columns=X.columns)"
   ]
  },
  {
   "cell_type": "code",
   "execution_count": 19,
   "metadata": {
    "pycharm": {
     "is_executing": true
    }
   },
   "outputs": [
    {
     "data": {
      "text/plain": [
       "['GROSS SQUARE FEET',\n",
       " 'LAND SQUARE FEET',\n",
       " 'SALE YEAR',\n",
       " 'BUILDING CLASS',\n",
       " 'ZIP CODE',\n",
       " 'COMMERCIAL UNITS',\n",
       " 'TOTAL UNITS']"
      ]
     },
     "execution_count": 19,
     "metadata": {},
     "output_type": "execute_result"
    }
   ],
   "source": [
    "cols[1:]"
   ]
  },
  {
   "cell_type": "code",
   "execution_count": 20,
   "metadata": {
    "pycharm": {
     "is_executing": true
    }
   },
   "outputs": [],
   "source": [
    "X = X[cols[1:]]\n",
    "\n",
    "# X = X[['GROSS SQUARE FEET','SALE YEAR']]"
   ]
  },
  {
   "cell_type": "code",
   "execution_count": 21,
   "metadata": {
    "pycharm": {
     "is_executing": true
    }
   },
   "outputs": [
    {
     "data": {
      "text/html": [
       "<div>\n",
       "<style scoped>\n",
       "    .dataframe tbody tr th:only-of-type {\n",
       "        vertical-align: middle;\n",
       "    }\n",
       "\n",
       "    .dataframe tbody tr th {\n",
       "        vertical-align: top;\n",
       "    }\n",
       "\n",
       "    .dataframe thead th {\n",
       "        text-align: right;\n",
       "    }\n",
       "</style>\n",
       "<table border=\"1\" class=\"dataframe\">\n",
       "  <thead>\n",
       "    <tr style=\"text-align: right;\">\n",
       "      <th></th>\n",
       "      <th>GROSS SQUARE FEET</th>\n",
       "      <th>LAND SQUARE FEET</th>\n",
       "      <th>SALE YEAR</th>\n",
       "      <th>BUILDING CLASS</th>\n",
       "      <th>ZIP CODE</th>\n",
       "      <th>COMMERCIAL UNITS</th>\n",
       "      <th>TOTAL UNITS</th>\n",
       "    </tr>\n",
       "  </thead>\n",
       "  <tbody>\n",
       "    <tr>\n",
       "      <th>0</th>\n",
       "      <td>1296.0</td>\n",
       "      <td>1667.0</td>\n",
       "      <td>2011</td>\n",
       "      <td>0</td>\n",
       "      <td>10458.0</td>\n",
       "      <td>0.0</td>\n",
       "      <td>1.0</td>\n",
       "    </tr>\n",
       "    <tr>\n",
       "      <th>1</th>\n",
       "      <td>1629.0</td>\n",
       "      <td>2060.0</td>\n",
       "      <td>2011</td>\n",
       "      <td>0</td>\n",
       "      <td>10457.0</td>\n",
       "      <td>0.0</td>\n",
       "      <td>1.0</td>\n",
       "    </tr>\n",
       "    <tr>\n",
       "      <th>2</th>\n",
       "      <td>1048.0</td>\n",
       "      <td>1209.0</td>\n",
       "      <td>2011</td>\n",
       "      <td>0</td>\n",
       "      <td>10457.0</td>\n",
       "      <td>0.0</td>\n",
       "      <td>1.0</td>\n",
       "    </tr>\n",
       "    <tr>\n",
       "      <th>3</th>\n",
       "      <td>1890.0</td>\n",
       "      <td>3203.0</td>\n",
       "      <td>2011</td>\n",
       "      <td>0</td>\n",
       "      <td>10469.0</td>\n",
       "      <td>0.0</td>\n",
       "      <td>1.0</td>\n",
       "    </tr>\n",
       "    <tr>\n",
       "      <th>4</th>\n",
       "      <td>1018.0</td>\n",
       "      <td>1785.0</td>\n",
       "      <td>2011</td>\n",
       "      <td>0</td>\n",
       "      <td>10469.0</td>\n",
       "      <td>0.0</td>\n",
       "      <td>1.0</td>\n",
       "    </tr>\n",
       "  </tbody>\n",
       "</table>\n",
       "</div>"
      ],
      "text/plain": [
       "   GROSS SQUARE FEET  LAND SQUARE FEET  SALE YEAR  BUILDING CLASS  ZIP CODE  \\\n",
       "0             1296.0            1667.0       2011               0   10458.0   \n",
       "1             1629.0            2060.0       2011               0   10457.0   \n",
       "2             1048.0            1209.0       2011               0   10457.0   \n",
       "3             1890.0            3203.0       2011               0   10469.0   \n",
       "4             1018.0            1785.0       2011               0   10469.0   \n",
       "\n",
       "   COMMERCIAL UNITS  TOTAL UNITS  \n",
       "0               0.0          1.0  \n",
       "1               0.0          1.0  \n",
       "2               0.0          1.0  \n",
       "3               0.0          1.0  \n",
       "4               0.0          1.0  "
      ]
     },
     "execution_count": 21,
     "metadata": {},
     "output_type": "execute_result"
    }
   ],
   "source": [
    "X.head()"
   ]
  },
  {
   "cell_type": "code",
   "execution_count": 22,
   "metadata": {
    "pycharm": {
     "is_executing": true
    }
   },
   "outputs": [],
   "source": [
    "from sklearn.model_selection import train_test_split\n",
    "X_train, X_test, Y_train, Y_test = train_test_split(X, y,test_size = .3, random_state=0)"
   ]
  },
  {
   "cell_type": "markdown",
   "metadata": {
    "pycharm": {
     "is_executing": true
    }
   },
   "source": [
    "## Random Forest Model"
   ]
  },
  {
   "cell_type": "code",
   "execution_count": 23,
   "metadata": {
    "pycharm": {
     "is_executing": true,
     "name": "#%%\n"
    }
   },
   "outputs": [
    {
     "data": {
      "text/plain": [
       "0.9534314556788974"
      ]
     },
     "execution_count": 23,
     "metadata": {},
     "output_type": "execute_result"
    }
   ],
   "source": [
    "# Fit Random Forest on Training Set\n",
    "from sklearn.ensemble import RandomForestRegressor\n",
    "regressor = RandomForestRegressor(n_estimators=100, random_state=0)\n",
    "regressor.fit(X_train, Y_train)\n",
    "\n",
    "# Score model\n",
    "regressor.score(X_train, Y_train)"
   ]
  },
  {
   "cell_type": "code",
   "execution_count": null,
   "metadata": {},
   "outputs": [],
   "source": []
  },
  {
   "cell_type": "code",
   "execution_count": 89,
   "metadata": {},
   "outputs": [],
   "source": [
    "scorelist = []\n",
    "for i in range(10, 200, 20):\n",
    "    regressor = RandomForestRegressor(n_estimators=100, random_state=0)\n",
    "    regressor.fit(X_train, Y_train)\n",
    "    score = regressor.score(X_train, Y_train)\n",
    "    scorelist.append(score)"
   ]
  },
  {
   "cell_type": "code",
   "execution_count": null,
   "metadata": {},
   "outputs": [],
   "source": []
  },
  {
   "cell_type": "code",
   "execution_count": 24,
   "metadata": {
    "pycharm": {
     "is_executing": true,
     "name": "#%%\n"
    }
   },
   "outputs": [
    {
     "data": {
      "text/plain": [
       "29709"
      ]
     },
     "execution_count": 24,
     "metadata": {},
     "output_type": "execute_result"
    }
   ],
   "source": [
    "# Predict new result\n",
    "y_pred = regressor.predict(X_test)\n",
    "len(y_pred)"
   ]
  },
  {
   "cell_type": "code",
   "execution_count": 25,
   "metadata": {
    "pycharm": {
     "is_executing": true,
     "name": "#%%\n"
    }
   },
   "outputs": [
    {
     "data": {
      "text/plain": [
       "29709"
      ]
     },
     "execution_count": 25,
     "metadata": {},
     "output_type": "execute_result"
    }
   ],
   "source": [
    "len(Y_test)"
   ]
  },
  {
   "cell_type": "code",
   "execution_count": 26,
   "metadata": {
    "pycharm": {
     "is_executing": true,
     "name": "#%%\n"
    }
   },
   "outputs": [
    {
     "data": {
      "text/plain": [
       "array([557000, 420000, 623000, ..., 300000, 279000, 445000], dtype=int64)"
      ]
     },
     "execution_count": 26,
     "metadata": {},
     "output_type": "execute_result"
    }
   ],
   "source": [
    "Y_test.values"
   ]
  },
  {
   "cell_type": "code",
   "execution_count": 27,
   "metadata": {
    "pycharm": {
     "is_executing": true
    }
   },
   "outputs": [
    {
     "data": {
      "text/plain": [
       "0.689140278537351"
      ]
     },
     "execution_count": 27,
     "metadata": {},
     "output_type": "execute_result"
    }
   ],
   "source": [
    "regressor.score(X_test, Y_test)"
   ]
  },
  {
   "cell_type": "code",
   "execution_count": 28,
   "metadata": {
    "pycharm": {
     "is_executing": true
    }
   },
   "outputs": [
    {
     "data": {
      "text/plain": [
       "56299213774.77358"
      ]
     },
     "execution_count": 28,
     "metadata": {},
     "output_type": "execute_result"
    }
   ],
   "source": [
    "mean_squared_error (y_pred, Y_test)"
   ]
  },
  {
   "cell_type": "code",
   "execution_count": 29,
   "metadata": {
    "pycharm": {
     "is_executing": true
    }
   },
   "outputs": [
    {
     "data": {
      "text/plain": [
       "130516.57047893351"
      ]
     },
     "execution_count": 29,
     "metadata": {},
     "output_type": "execute_result"
    }
   ],
   "source": [
    "mean_absolute_error (y_pred, Y_test)"
   ]
  },
  {
   "cell_type": "code",
   "execution_count": 85,
   "metadata": {
    "pycharm": {
     "is_executing": true
    }
   },
   "outputs": [
    {
     "data": {
      "image/png": "[encoded data removed]",
      "text/plain": [
       "<Figure size 864x576 with 1 Axes>"
      ]
     },
     "metadata": {},
     "output_type": "display_data"
    }
   ],
   "source": [
    "# # Predict new result\n",
    "# y_pred = regressor.predict(X_test)\n",
    "# Plot y_test vs y_pred\n",
    "plt.figure(figsize=(12,8))\n",
    "plt.plot(Y_test.values[:100], color='red', label=\"actual\")\n",
    "plt.plot(y_pred[:100], color='blue', label=\"predict\")\n",
    "plt.legend()\n",
    "plt.title(\"Random Forest\")\n",
    "plt.show()"
   ]
  },
  {
   "cell_type": "code",
   "execution_count": 31,
   "metadata": {
    "pycharm": {
     "is_executing": true
    }
   },
   "outputs": [],
   "source": [
    "## predict 2020"
   ]
  },
  {
   "cell_type": "code",
   "execution_count": 32,
   "metadata": {
    "pycharm": {
     "is_executing": true
    }
   },
   "outputs": [
    {
     "data": {
      "text/html": [
       "<div>\n",
       "<style scoped>\n",
       "    .dataframe tbody tr th:only-of-type {\n",
       "        vertical-align: middle;\n",
       "    }\n",
       "\n",
       "    .dataframe tbody tr th {\n",
       "        vertical-align: top;\n",
       "    }\n",
       "\n",
       "    .dataframe thead th {\n",
       "        text-align: right;\n",
       "    }\n",
       "</style>\n",
       "<table border=\"1\" class=\"dataframe\">\n",
       "  <thead>\n",
       "    <tr style=\"text-align: right;\">\n",
       "      <th></th>\n",
       "      <th>GROSS SQUARE FEET</th>\n",
       "      <th>LAND SQUARE FEET</th>\n",
       "      <th>SALE YEAR</th>\n",
       "      <th>BUILDING CLASS</th>\n",
       "      <th>ZIP CODE</th>\n",
       "      <th>COMMERCIAL UNITS</th>\n",
       "      <th>TOTAL UNITS</th>\n",
       "    </tr>\n",
       "  </thead>\n",
       "  <tbody>\n",
       "    <tr>\n",
       "      <th>0</th>\n",
       "      <td>1296.0</td>\n",
       "      <td>1667.0</td>\n",
       "      <td>2011</td>\n",
       "      <td>0</td>\n",
       "      <td>10458.0</td>\n",
       "      <td>0.0</td>\n",
       "      <td>1.0</td>\n",
       "    </tr>\n",
       "    <tr>\n",
       "      <th>1</th>\n",
       "      <td>1629.0</td>\n",
       "      <td>2060.0</td>\n",
       "      <td>2011</td>\n",
       "      <td>0</td>\n",
       "      <td>10457.0</td>\n",
       "      <td>0.0</td>\n",
       "      <td>1.0</td>\n",
       "    </tr>\n",
       "    <tr>\n",
       "      <th>2</th>\n",
       "      <td>1048.0</td>\n",
       "      <td>1209.0</td>\n",
       "      <td>2011</td>\n",
       "      <td>0</td>\n",
       "      <td>10457.0</td>\n",
       "      <td>0.0</td>\n",
       "      <td>1.0</td>\n",
       "    </tr>\n",
       "    <tr>\n",
       "      <th>3</th>\n",
       "      <td>1890.0</td>\n",
       "      <td>3203.0</td>\n",
       "      <td>2011</td>\n",
       "      <td>0</td>\n",
       "      <td>10469.0</td>\n",
       "      <td>0.0</td>\n",
       "      <td>1.0</td>\n",
       "    </tr>\n",
       "    <tr>\n",
       "      <th>4</th>\n",
       "      <td>1018.0</td>\n",
       "      <td>1785.0</td>\n",
       "      <td>2011</td>\n",
       "      <td>0</td>\n",
       "      <td>10469.0</td>\n",
       "      <td>0.0</td>\n",
       "      <td>1.0</td>\n",
       "    </tr>\n",
       "  </tbody>\n",
       "</table>\n",
       "</div>"
      ],
      "text/plain": [
       "   GROSS SQUARE FEET  LAND SQUARE FEET  SALE YEAR  BUILDING CLASS  ZIP CODE  \\\n",
       "0             1296.0            1667.0       2011               0   10458.0   \n",
       "1             1629.0            2060.0       2011               0   10457.0   \n",
       "2             1048.0            1209.0       2011               0   10457.0   \n",
       "3             1890.0            3203.0       2011               0   10469.0   \n",
       "4             1018.0            1785.0       2011               0   10469.0   \n",
       "\n",
       "   COMMERCIAL UNITS  TOTAL UNITS  \n",
       "0               0.0          1.0  \n",
       "1               0.0          1.0  \n",
       "2               0.0          1.0  \n",
       "3               0.0          1.0  \n",
       "4               0.0          1.0  "
      ]
     },
     "execution_count": 32,
     "metadata": {},
     "output_type": "execute_result"
    }
   ],
   "source": [
    "X.head()"
   ]
  },
  {
   "cell_type": "code",
   "execution_count": 33,
   "metadata": {
    "pycharm": {
     "is_executing": true
    }
   },
   "outputs": [
    {
     "data": {
      "text/plain": [
       "165"
      ]
     },
     "execution_count": 33,
     "metadata": {},
     "output_type": "execute_result"
    }
   ],
   "source": [
    "len(X[\"ZIP CODE\"].unique())"
   ]
  },
  {
   "cell_type": "code",
   "execution_count": 34,
   "metadata": {
    "pycharm": {
     "is_executing": true
    }
   },
   "outputs": [
    {
     "data": {
      "text/plain": [
       "146"
      ]
     },
     "execution_count": 34,
     "metadata": {},
     "output_type": "execute_result"
    }
   ],
   "source": [
    "len(X[X[\"SALE YEAR\"]==2017][\"ZIP CODE\"].unique())"
   ]
  },
  {
   "cell_type": "code",
   "execution_count": 35,
   "metadata": {
    "pycharm": {
     "is_executing": true
    }
   },
   "outputs": [],
   "source": [
    "predict_2020_dataset = X[X[\"SALE YEAR\"]==2017].copy()\n",
    "unexist_ZIPCODE = list(set(list(X[\"ZIP CODE\"].unique())) - set(list(predict_2020_dataset[\"ZIP CODE\"].unique())))\n",
    "\n",
    "for zipcode in unexist_ZIPCODE:\n",
    "    new_ = X[X[\"ZIP CODE\"]==zipcode]\n",
    "    predict_2020_dataset = predict_2020_dataset.append(new_)"
   ]
  },
  {
   "cell_type": "code",
   "execution_count": 36,
   "metadata": {
    "pycharm": {
     "is_executing": true
    }
   },
   "outputs": [
    {
     "data": {
      "text/html": [
       "<div>\n",
       "<style scoped>\n",
       "    .dataframe tbody tr th:only-of-type {\n",
       "        vertical-align: middle;\n",
       "    }\n",
       "\n",
       "    .dataframe tbody tr th {\n",
       "        vertical-align: top;\n",
       "    }\n",
       "\n",
       "    .dataframe thead th {\n",
       "        text-align: right;\n",
       "    }\n",
       "</style>\n",
       "<table border=\"1\" class=\"dataframe\">\n",
       "  <thead>\n",
       "    <tr style=\"text-align: right;\">\n",
       "      <th></th>\n",
       "      <th>GROSS SQUARE FEET</th>\n",
       "      <th>LAND SQUARE FEET</th>\n",
       "      <th>SALE YEAR</th>\n",
       "      <th>BUILDING CLASS</th>\n",
       "      <th>ZIP CODE</th>\n",
       "      <th>COMMERCIAL UNITS</th>\n",
       "      <th>TOTAL UNITS</th>\n",
       "    </tr>\n",
       "  </thead>\n",
       "  <tbody>\n",
       "    <tr>\n",
       "      <th>61258</th>\n",
       "      <td>1460.0</td>\n",
       "      <td>1330.0</td>\n",
       "      <td>2020</td>\n",
       "      <td>2</td>\n",
       "      <td>10457.0</td>\n",
       "      <td>0.0</td>\n",
       "      <td>1.0</td>\n",
       "    </tr>\n",
       "    <tr>\n",
       "      <th>61259</th>\n",
       "      <td>1440.0</td>\n",
       "      <td>1306.0</td>\n",
       "      <td>2020</td>\n",
       "      <td>2</td>\n",
       "      <td>10457.0</td>\n",
       "      <td>0.0</td>\n",
       "      <td>1.0</td>\n",
       "    </tr>\n",
       "    <tr>\n",
       "      <th>61260</th>\n",
       "      <td>1440.0</td>\n",
       "      <td>1306.0</td>\n",
       "      <td>2020</td>\n",
       "      <td>2</td>\n",
       "      <td>10457.0</td>\n",
       "      <td>0.0</td>\n",
       "      <td>1.0</td>\n",
       "    </tr>\n",
       "    <tr>\n",
       "      <th>61261</th>\n",
       "      <td>1587.0</td>\n",
       "      <td>1622.0</td>\n",
       "      <td>2020</td>\n",
       "      <td>2</td>\n",
       "      <td>10457.0</td>\n",
       "      <td>0.0</td>\n",
       "      <td>1.0</td>\n",
       "    </tr>\n",
       "    <tr>\n",
       "      <th>61262</th>\n",
       "      <td>1497.0</td>\n",
       "      <td>1694.0</td>\n",
       "      <td>2020</td>\n",
       "      <td>2</td>\n",
       "      <td>10457.0</td>\n",
       "      <td>0.0</td>\n",
       "      <td>1.0</td>\n",
       "    </tr>\n",
       "  </tbody>\n",
       "</table>\n",
       "</div>"
      ],
      "text/plain": [
       "       GROSS SQUARE FEET  LAND SQUARE FEET  SALE YEAR  BUILDING CLASS  \\\n",
       "61258             1460.0            1330.0       2020               2   \n",
       "61259             1440.0            1306.0       2020               2   \n",
       "61260             1440.0            1306.0       2020               2   \n",
       "61261             1587.0            1622.0       2020               2   \n",
       "61262             1497.0            1694.0       2020               2   \n",
       "\n",
       "       ZIP CODE  COMMERCIAL UNITS  TOTAL UNITS  \n",
       "61258   10457.0               0.0          1.0  \n",
       "61259   10457.0               0.0          1.0  \n",
       "61260   10457.0               0.0          1.0  \n",
       "61261   10457.0               0.0          1.0  \n",
       "61262   10457.0               0.0          1.0  "
      ]
     },
     "execution_count": 36,
     "metadata": {},
     "output_type": "execute_result"
    }
   ],
   "source": [
    "predict_2020_dataset[\"SALE YEAR\"] = 2020\n",
    "predict_2020_dataset.head()"
   ]
  },
  {
   "cell_type": "code",
   "execution_count": 37,
   "metadata": {
    "pycharm": {
     "is_executing": true
    }
   },
   "outputs": [],
   "source": [
    "pred_2020_values = regressor.predict(predict_2020_dataset)"
   ]
  },
  {
   "cell_type": "code",
   "execution_count": 38,
   "metadata": {
    "pycharm": {
     "is_executing": true
    }
   },
   "outputs": [
    {
     "data": {
      "text/html": [
       "<div>\n",
       "<style scoped>\n",
       "    .dataframe tbody tr th:only-of-type {\n",
       "        vertical-align: middle;\n",
       "    }\n",
       "\n",
       "    .dataframe tbody tr th {\n",
       "        vertical-align: top;\n",
       "    }\n",
       "\n",
       "    .dataframe thead th {\n",
       "        text-align: right;\n",
       "    }\n",
       "</style>\n",
       "<table border=\"1\" class=\"dataframe\">\n",
       "  <thead>\n",
       "    <tr style=\"text-align: right;\">\n",
       "      <th></th>\n",
       "      <th>GROSS SQUARE FEET</th>\n",
       "      <th>LAND SQUARE FEET</th>\n",
       "      <th>SALE YEAR</th>\n",
       "      <th>BUILDING CLASS</th>\n",
       "      <th>ZIP CODE</th>\n",
       "      <th>COMMERCIAL UNITS</th>\n",
       "      <th>TOTAL UNITS</th>\n",
       "      <th>SALE PRICE</th>\n",
       "    </tr>\n",
       "  </thead>\n",
       "  <tbody>\n",
       "    <tr>\n",
       "      <th>61258</th>\n",
       "      <td>1460.0</td>\n",
       "      <td>1330.0</td>\n",
       "      <td>2020</td>\n",
       "      <td>2</td>\n",
       "      <td>10457.0</td>\n",
       "      <td>0.0</td>\n",
       "      <td>1.0</td>\n",
       "      <td>423876.400000</td>\n",
       "    </tr>\n",
       "    <tr>\n",
       "      <th>61259</th>\n",
       "      <td>1440.0</td>\n",
       "      <td>1306.0</td>\n",
       "      <td>2020</td>\n",
       "      <td>2</td>\n",
       "      <td>10457.0</td>\n",
       "      <td>0.0</td>\n",
       "      <td>1.0</td>\n",
       "      <td>451719.670000</td>\n",
       "    </tr>\n",
       "    <tr>\n",
       "      <th>61260</th>\n",
       "      <td>1440.0</td>\n",
       "      <td>1306.0</td>\n",
       "      <td>2020</td>\n",
       "      <td>2</td>\n",
       "      <td>10457.0</td>\n",
       "      <td>0.0</td>\n",
       "      <td>1.0</td>\n",
       "      <td>451719.670000</td>\n",
       "    </tr>\n",
       "    <tr>\n",
       "      <th>61261</th>\n",
       "      <td>1587.0</td>\n",
       "      <td>1622.0</td>\n",
       "      <td>2020</td>\n",
       "      <td>2</td>\n",
       "      <td>10457.0</td>\n",
       "      <td>0.0</td>\n",
       "      <td>1.0</td>\n",
       "      <td>431184.477333</td>\n",
       "    </tr>\n",
       "    <tr>\n",
       "      <th>61262</th>\n",
       "      <td>1497.0</td>\n",
       "      <td>1694.0</td>\n",
       "      <td>2020</td>\n",
       "      <td>2</td>\n",
       "      <td>10457.0</td>\n",
       "      <td>0.0</td>\n",
       "      <td>1.0</td>\n",
       "      <td>436633.374762</td>\n",
       "    </tr>\n",
       "  </tbody>\n",
       "</table>\n",
       "</div>"
      ],
      "text/plain": [
       "       GROSS SQUARE FEET  LAND SQUARE FEET  SALE YEAR  BUILDING CLASS  \\\n",
       "61258             1460.0            1330.0       2020               2   \n",
       "61259             1440.0            1306.0       2020               2   \n",
       "61260             1440.0            1306.0       2020               2   \n",
       "61261             1587.0            1622.0       2020               2   \n",
       "61262             1497.0            1694.0       2020               2   \n",
       "\n",
       "       ZIP CODE  COMMERCIAL UNITS  TOTAL UNITS     SALE PRICE  \n",
       "61258   10457.0               0.0          1.0  423876.400000  \n",
       "61259   10457.0               0.0          1.0  451719.670000  \n",
       "61260   10457.0               0.0          1.0  451719.670000  \n",
       "61261   10457.0               0.0          1.0  431184.477333  \n",
       "61262   10457.0               0.0          1.0  436633.374762  "
      ]
     },
     "execution_count": 38,
     "metadata": {},
     "output_type": "execute_result"
    }
   ],
   "source": [
    "predict_2020_dataset[\"SALE PRICE\"] = pred_2020_values\n",
    "predict_2020_dataset.head()"
   ]
  },
  {
   "cell_type": "code",
   "execution_count": 39,
   "metadata": {
    "pycharm": {
     "is_executing": true
    }
   },
   "outputs": [],
   "source": [
    "alldata = X.copy()\n",
    "alldata[\"SALE PRICE\"] = y"
   ]
  },
  {
   "cell_type": "code",
   "execution_count": 40,
   "metadata": {
    "pycharm": {
     "is_executing": true
    }
   },
   "outputs": [
    {
     "data": {
      "text/html": [
       "<div>\n",
       "<style scoped>\n",
       "    .dataframe tbody tr th:only-of-type {\n",
       "        vertical-align: middle;\n",
       "    }\n",
       "\n",
       "    .dataframe tbody tr th {\n",
       "        vertical-align: top;\n",
       "    }\n",
       "\n",
       "    .dataframe thead th {\n",
       "        text-align: right;\n",
       "    }\n",
       "</style>\n",
       "<table border=\"1\" class=\"dataframe\">\n",
       "  <thead>\n",
       "    <tr style=\"text-align: right;\">\n",
       "      <th></th>\n",
       "      <th>GROSS SQUARE FEET</th>\n",
       "      <th>LAND SQUARE FEET</th>\n",
       "      <th>SALE YEAR</th>\n",
       "      <th>BUILDING CLASS</th>\n",
       "      <th>ZIP CODE</th>\n",
       "      <th>COMMERCIAL UNITS</th>\n",
       "      <th>TOTAL UNITS</th>\n",
       "      <th>SALE PRICE</th>\n",
       "    </tr>\n",
       "  </thead>\n",
       "  <tbody>\n",
       "    <tr>\n",
       "      <th>0</th>\n",
       "      <td>1296.0</td>\n",
       "      <td>1667.0</td>\n",
       "      <td>2011</td>\n",
       "      <td>0</td>\n",
       "      <td>10458.0</td>\n",
       "      <td>0.0</td>\n",
       "      <td>1.0</td>\n",
       "      <td>329000</td>\n",
       "    </tr>\n",
       "    <tr>\n",
       "      <th>1</th>\n",
       "      <td>1629.0</td>\n",
       "      <td>2060.0</td>\n",
       "      <td>2011</td>\n",
       "      <td>0</td>\n",
       "      <td>10457.0</td>\n",
       "      <td>0.0</td>\n",
       "      <td>1.0</td>\n",
       "      <td>288500</td>\n",
       "    </tr>\n",
       "    <tr>\n",
       "      <th>2</th>\n",
       "      <td>1048.0</td>\n",
       "      <td>1209.0</td>\n",
       "      <td>2011</td>\n",
       "      <td>0</td>\n",
       "      <td>10457.0</td>\n",
       "      <td>0.0</td>\n",
       "      <td>1.0</td>\n",
       "      <td>122500</td>\n",
       "    </tr>\n",
       "    <tr>\n",
       "      <th>3</th>\n",
       "      <td>1890.0</td>\n",
       "      <td>3203.0</td>\n",
       "      <td>2011</td>\n",
       "      <td>0</td>\n",
       "      <td>10469.0</td>\n",
       "      <td>0.0</td>\n",
       "      <td>1.0</td>\n",
       "      <td>330000</td>\n",
       "    </tr>\n",
       "    <tr>\n",
       "      <th>4</th>\n",
       "      <td>1018.0</td>\n",
       "      <td>1785.0</td>\n",
       "      <td>2011</td>\n",
       "      <td>0</td>\n",
       "      <td>10469.0</td>\n",
       "      <td>0.0</td>\n",
       "      <td>1.0</td>\n",
       "      <td>288000</td>\n",
       "    </tr>\n",
       "    <tr>\n",
       "      <th>...</th>\n",
       "      <td>...</td>\n",
       "      <td>...</td>\n",
       "      <td>...</td>\n",
       "      <td>...</td>\n",
       "      <td>...</td>\n",
       "      <td>...</td>\n",
       "      <td>...</td>\n",
       "      <td>...</td>\n",
       "    </tr>\n",
       "    <tr>\n",
       "      <th>99022</th>\n",
       "      <td>1800.0</td>\n",
       "      <td>3020.0</td>\n",
       "      <td>2019</td>\n",
       "      <td>2</td>\n",
       "      <td>10309.0</td>\n",
       "      <td>0.0</td>\n",
       "      <td>1.0</td>\n",
       "      <td>560000</td>\n",
       "    </tr>\n",
       "    <tr>\n",
       "      <th>99023</th>\n",
       "      <td>2400.0</td>\n",
       "      <td>5000.0</td>\n",
       "      <td>2019</td>\n",
       "      <td>2</td>\n",
       "      <td>10309.0</td>\n",
       "      <td>0.0</td>\n",
       "      <td>1.0</td>\n",
       "      <td>825000</td>\n",
       "    </tr>\n",
       "    <tr>\n",
       "      <th>99024</th>\n",
       "      <td>1500.0</td>\n",
       "      <td>2500.0</td>\n",
       "      <td>2019</td>\n",
       "      <td>2</td>\n",
       "      <td>10309.0</td>\n",
       "      <td>0.0</td>\n",
       "      <td>1.0</td>\n",
       "      <td>640000</td>\n",
       "    </tr>\n",
       "    <tr>\n",
       "      <th>99025</th>\n",
       "      <td>2160.0</td>\n",
       "      <td>2392.0</td>\n",
       "      <td>2019</td>\n",
       "      <td>2</td>\n",
       "      <td>10309.0</td>\n",
       "      <td>0.0</td>\n",
       "      <td>1.0</td>\n",
       "      <td>635000</td>\n",
       "    </tr>\n",
       "    <tr>\n",
       "      <th>99026</th>\n",
       "      <td>2160.0</td>\n",
       "      <td>2520.0</td>\n",
       "      <td>2019</td>\n",
       "      <td>2</td>\n",
       "      <td>10309.0</td>\n",
       "      <td>0.0</td>\n",
       "      <td>1.0</td>\n",
       "      <td>632500</td>\n",
       "    </tr>\n",
       "  </tbody>\n",
       "</table>\n",
       "<p>99027 rows × 8 columns</p>\n",
       "</div>"
      ],
      "text/plain": [
       "       GROSS SQUARE FEET  LAND SQUARE FEET  SALE YEAR  BUILDING CLASS  \\\n",
       "0                 1296.0            1667.0       2011               0   \n",
       "1                 1629.0            2060.0       2011               0   \n",
       "2                 1048.0            1209.0       2011               0   \n",
       "3                 1890.0            3203.0       2011               0   \n",
       "4                 1018.0            1785.0       2011               0   \n",
       "...                  ...               ...        ...             ...   \n",
       "99022             1800.0            3020.0       2019               2   \n",
       "99023             2400.0            5000.0       2019               2   \n",
       "99024             1500.0            2500.0       2019               2   \n",
       "99025             2160.0            2392.0       2019               2   \n",
       "99026             2160.0            2520.0       2019               2   \n",
       "\n",
       "       ZIP CODE  COMMERCIAL UNITS  TOTAL UNITS  SALE PRICE  \n",
       "0       10458.0               0.0          1.0      329000  \n",
       "1       10457.0               0.0          1.0      288500  \n",
       "2       10457.0               0.0          1.0      122500  \n",
       "3       10469.0               0.0          1.0      330000  \n",
       "4       10469.0               0.0          1.0      288000  \n",
       "...         ...               ...          ...         ...  \n",
       "99022   10309.0               0.0          1.0      560000  \n",
       "99023   10309.0               0.0          1.0      825000  \n",
       "99024   10309.0               0.0          1.0      640000  \n",
       "99025   10309.0               0.0          1.0      635000  \n",
       "99026   10309.0               0.0          1.0      632500  \n",
       "\n",
       "[99027 rows x 8 columns]"
      ]
     },
     "execution_count": 40,
     "metadata": {},
     "output_type": "execute_result"
    }
   ],
   "source": [
    "alldata"
   ]
  },
  {
   "cell_type": "code",
   "execution_count": 41,
   "metadata": {
    "pycharm": {
     "is_executing": true
    }
   },
   "outputs": [
    {
     "data": {
      "text/html": [
       "<div>\n",
       "<style scoped>\n",
       "    .dataframe tbody tr th:only-of-type {\n",
       "        vertical-align: middle;\n",
       "    }\n",
       "\n",
       "    .dataframe tbody tr th {\n",
       "        vertical-align: top;\n",
       "    }\n",
       "\n",
       "    .dataframe thead th {\n",
       "        text-align: right;\n",
       "    }\n",
       "</style>\n",
       "<table border=\"1\" class=\"dataframe\">\n",
       "  <thead>\n",
       "    <tr style=\"text-align: right;\">\n",
       "      <th></th>\n",
       "      <th>GROSS SQUARE FEET</th>\n",
       "      <th>LAND SQUARE FEET</th>\n",
       "      <th>SALE YEAR</th>\n",
       "      <th>BUILDING CLASS</th>\n",
       "      <th>ZIP CODE</th>\n",
       "      <th>COMMERCIAL UNITS</th>\n",
       "      <th>TOTAL UNITS</th>\n",
       "      <th>SALE PRICE</th>\n",
       "    </tr>\n",
       "  </thead>\n",
       "  <tbody>\n",
       "    <tr>\n",
       "      <th>0</th>\n",
       "      <td>1296.0</td>\n",
       "      <td>1667.0</td>\n",
       "      <td>2011</td>\n",
       "      <td>0</td>\n",
       "      <td>10458.0</td>\n",
       "      <td>0.0</td>\n",
       "      <td>1.0</td>\n",
       "      <td>329000.0</td>\n",
       "    </tr>\n",
       "    <tr>\n",
       "      <th>1</th>\n",
       "      <td>1629.0</td>\n",
       "      <td>2060.0</td>\n",
       "      <td>2011</td>\n",
       "      <td>0</td>\n",
       "      <td>10457.0</td>\n",
       "      <td>0.0</td>\n",
       "      <td>1.0</td>\n",
       "      <td>288500.0</td>\n",
       "    </tr>\n",
       "    <tr>\n",
       "      <th>2</th>\n",
       "      <td>1048.0</td>\n",
       "      <td>1209.0</td>\n",
       "      <td>2011</td>\n",
       "      <td>0</td>\n",
       "      <td>10457.0</td>\n",
       "      <td>0.0</td>\n",
       "      <td>1.0</td>\n",
       "      <td>122500.0</td>\n",
       "    </tr>\n",
       "    <tr>\n",
       "      <th>3</th>\n",
       "      <td>1890.0</td>\n",
       "      <td>3203.0</td>\n",
       "      <td>2011</td>\n",
       "      <td>0</td>\n",
       "      <td>10469.0</td>\n",
       "      <td>0.0</td>\n",
       "      <td>1.0</td>\n",
       "      <td>330000.0</td>\n",
       "    </tr>\n",
       "    <tr>\n",
       "      <th>4</th>\n",
       "      <td>1018.0</td>\n",
       "      <td>1785.0</td>\n",
       "      <td>2011</td>\n",
       "      <td>0</td>\n",
       "      <td>10469.0</td>\n",
       "      <td>0.0</td>\n",
       "      <td>1.0</td>\n",
       "      <td>288000.0</td>\n",
       "    </tr>\n",
       "  </tbody>\n",
       "</table>\n",
       "</div>"
      ],
      "text/plain": [
       "   GROSS SQUARE FEET  LAND SQUARE FEET  SALE YEAR  BUILDING CLASS  ZIP CODE  \\\n",
       "0             1296.0            1667.0       2011               0   10458.0   \n",
       "1             1629.0            2060.0       2011               0   10457.0   \n",
       "2             1048.0            1209.0       2011               0   10457.0   \n",
       "3             1890.0            3203.0       2011               0   10469.0   \n",
       "4             1018.0            1785.0       2011               0   10469.0   \n",
       "\n",
       "   COMMERCIAL UNITS  TOTAL UNITS  SALE PRICE  \n",
       "0               0.0          1.0    329000.0  \n",
       "1               0.0          1.0    288500.0  \n",
       "2               0.0          1.0    122500.0  \n",
       "3               0.0          1.0    330000.0  \n",
       "4               0.0          1.0    288000.0  "
      ]
     },
     "execution_count": 41,
     "metadata": {},
     "output_type": "execute_result"
    }
   ],
   "source": [
    "data_11_20 = alldata.append(predict_2020_dataset)\n",
    "data_11_20.head()"
   ]
  },
  {
   "cell_type": "code",
   "execution_count": 42,
   "metadata": {
    "pycharm": {
     "is_executing": true,
     "name": "#%%\n"
    }
   },
   "outputs": [],
   "source": [
    "SalesYear = data_11_20.groupby(['SALE YEAR']).agg({'SALE PRICE':'sum','GROSS SQUARE FEET':'sum'})\n",
    "SalesYear['PriceperSQFT'] = SalesYear['SALE PRICE'] / SalesYear['GROSS SQUARE FEET']"
   ]
  },
  {
   "cell_type": "code",
   "execution_count": 43,
   "metadata": {
    "pycharm": {
     "is_executing": true,
     "name": "#%%\n"
    }
   },
   "outputs": [
    {
     "data": {
      "text/html": [
       "<div>\n",
       "<style scoped>\n",
       "    .dataframe tbody tr th:only-of-type {\n",
       "        vertical-align: middle;\n",
       "    }\n",
       "\n",
       "    .dataframe tbody tr th {\n",
       "        vertical-align: top;\n",
       "    }\n",
       "\n",
       "    .dataframe thead th {\n",
       "        text-align: right;\n",
       "    }\n",
       "</style>\n",
       "<table border=\"1\" class=\"dataframe\">\n",
       "  <thead>\n",
       "    <tr style=\"text-align: right;\">\n",
       "      <th></th>\n",
       "      <th>SALE PRICE</th>\n",
       "      <th>GROSS SQUARE FEET</th>\n",
       "      <th>PriceperSQFT</th>\n",
       "    </tr>\n",
       "    <tr>\n",
       "      <th>SALE YEAR</th>\n",
       "      <th></th>\n",
       "      <th></th>\n",
       "      <th></th>\n",
       "    </tr>\n",
       "  </thead>\n",
       "  <tbody>\n",
       "    <tr>\n",
       "      <th>2011</th>\n",
       "      <td>3.698760e+09</td>\n",
       "      <td>12957452.0</td>\n",
       "      <td>285.454231</td>\n",
       "    </tr>\n",
       "    <tr>\n",
       "      <th>2012</th>\n",
       "      <td>4.305591e+09</td>\n",
       "      <td>14914505.0</td>\n",
       "      <td>288.684790</td>\n",
       "    </tr>\n",
       "    <tr>\n",
       "      <th>2013</th>\n",
       "      <td>5.163403e+09</td>\n",
       "      <td>17211876.0</td>\n",
       "      <td>299.990726</td>\n",
       "    </tr>\n",
       "    <tr>\n",
       "      <th>2014</th>\n",
       "      <td>5.551956e+09</td>\n",
       "      <td>17550008.0</td>\n",
       "      <td>316.350621</td>\n",
       "    </tr>\n",
       "    <tr>\n",
       "      <th>2015</th>\n",
       "      <td>6.574563e+09</td>\n",
       "      <td>18341290.0</td>\n",
       "      <td>358.456946</td>\n",
       "    </tr>\n",
       "    <tr>\n",
       "      <th>2016</th>\n",
       "      <td>7.205983e+09</td>\n",
       "      <td>20235251.0</td>\n",
       "      <td>356.110400</td>\n",
       "    </tr>\n",
       "    <tr>\n",
       "      <th>2017</th>\n",
       "      <td>8.151779e+09</td>\n",
       "      <td>20018602.0</td>\n",
       "      <td>407.210188</td>\n",
       "    </tr>\n",
       "    <tr>\n",
       "      <th>2018</th>\n",
       "      <td>8.320366e+09</td>\n",
       "      <td>19578071.0</td>\n",
       "      <td>424.983941</td>\n",
       "    </tr>\n",
       "    <tr>\n",
       "      <th>2019</th>\n",
       "      <td>7.956392e+09</td>\n",
       "      <td>18297794.0</td>\n",
       "      <td>434.827915</td>\n",
       "    </tr>\n",
       "    <tr>\n",
       "      <th>2020</th>\n",
       "      <td>9.133431e+09</td>\n",
       "      <td>20503249.0</td>\n",
       "      <td>445.462604</td>\n",
       "    </tr>\n",
       "  </tbody>\n",
       "</table>\n",
       "</div>"
      ],
      "text/plain": [
       "             SALE PRICE  GROSS SQUARE FEET  PriceperSQFT\n",
       "SALE YEAR                                               \n",
       "2011       3.698760e+09         12957452.0    285.454231\n",
       "2012       4.305591e+09         14914505.0    288.684790\n",
       "2013       5.163403e+09         17211876.0    299.990726\n",
       "2014       5.551956e+09         17550008.0    316.350621\n",
       "2015       6.574563e+09         18341290.0    358.456946\n",
       "2016       7.205983e+09         20235251.0    356.110400\n",
       "2017       8.151779e+09         20018602.0    407.210188\n",
       "2018       8.320366e+09         19578071.0    424.983941\n",
       "2019       7.956392e+09         18297794.0    434.827915\n",
       "2020       9.133431e+09         20503249.0    445.462604"
      ]
     },
     "execution_count": 43,
     "metadata": {},
     "output_type": "execute_result"
    }
   ],
   "source": [
    "SalesYear"
   ]
  },
  {
   "cell_type": "code",
   "execution_count": 87,
   "metadata": {
    "pycharm": {
     "is_executing": true
    }
   },
   "outputs": [
    {
     "data": {
      "text/plain": [
       "Text(0.5, 1.0, 'Random Forest')"
      ]
     },
     "execution_count": 87,
     "metadata": {},
     "output_type": "execute_result"
    },
    {
     "data": {
      "image/png": "[encoded data removed]",
      "text/plain": [
       "<Figure size 432x288 with 1 Axes>"
      ]
     },
     "metadata": {},
     "output_type": "display_data"
    }
   ],
   "source": [
    "SalesYear.plot(y = 'PriceperSQFT', use_index = True)\n",
    "plt.title(\"Random Forest\")"
   ]
  },
  {
   "cell_type": "markdown",
   "metadata": {
    "pycharm": {
     "name": "#%% md\n"
    }
   },
   "source": []
  },
  {
   "cell_type": "markdown",
   "metadata": {
    "pycharm": {
     "name": "#%% md\n"
    }
   },
   "source": [
    "## explore on each zip code"
   ]
  },
  {
   "cell_type": "code",
   "execution_count": 45,
   "metadata": {
    "pycharm": {
     "is_executing": true
    }
   },
   "outputs": [
    {
     "data": {
      "text/html": [
       "<div>\n",
       "<style scoped>\n",
       "    .dataframe tbody tr th:only-of-type {\n",
       "        vertical-align: middle;\n",
       "    }\n",
       "\n",
       "    .dataframe tbody tr th {\n",
       "        vertical-align: top;\n",
       "    }\n",
       "\n",
       "    .dataframe thead th {\n",
       "        text-align: right;\n",
       "    }\n",
       "</style>\n",
       "<table border=\"1\" class=\"dataframe\">\n",
       "  <thead>\n",
       "    <tr style=\"text-align: right;\">\n",
       "      <th></th>\n",
       "      <th>GROSS SQUARE FEET</th>\n",
       "      <th>LAND SQUARE FEET</th>\n",
       "      <th>SALE YEAR</th>\n",
       "      <th>BUILDING CLASS</th>\n",
       "      <th>ZIP CODE</th>\n",
       "      <th>COMMERCIAL UNITS</th>\n",
       "      <th>TOTAL UNITS</th>\n",
       "      <th>SALE PRICE</th>\n",
       "    </tr>\n",
       "  </thead>\n",
       "  <tbody>\n",
       "    <tr>\n",
       "      <th>0</th>\n",
       "      <td>1296.0</td>\n",
       "      <td>1667.0</td>\n",
       "      <td>2011</td>\n",
       "      <td>0</td>\n",
       "      <td>10458.0</td>\n",
       "      <td>0.0</td>\n",
       "      <td>1.0</td>\n",
       "      <td>329000.0</td>\n",
       "    </tr>\n",
       "    <tr>\n",
       "      <th>1</th>\n",
       "      <td>1629.0</td>\n",
       "      <td>2060.0</td>\n",
       "      <td>2011</td>\n",
       "      <td>0</td>\n",
       "      <td>10457.0</td>\n",
       "      <td>0.0</td>\n",
       "      <td>1.0</td>\n",
       "      <td>288500.0</td>\n",
       "    </tr>\n",
       "    <tr>\n",
       "      <th>2</th>\n",
       "      <td>1048.0</td>\n",
       "      <td>1209.0</td>\n",
       "      <td>2011</td>\n",
       "      <td>0</td>\n",
       "      <td>10457.0</td>\n",
       "      <td>0.0</td>\n",
       "      <td>1.0</td>\n",
       "      <td>122500.0</td>\n",
       "    </tr>\n",
       "    <tr>\n",
       "      <th>3</th>\n",
       "      <td>1890.0</td>\n",
       "      <td>3203.0</td>\n",
       "      <td>2011</td>\n",
       "      <td>0</td>\n",
       "      <td>10469.0</td>\n",
       "      <td>0.0</td>\n",
       "      <td>1.0</td>\n",
       "      <td>330000.0</td>\n",
       "    </tr>\n",
       "    <tr>\n",
       "      <th>4</th>\n",
       "      <td>1018.0</td>\n",
       "      <td>1785.0</td>\n",
       "      <td>2011</td>\n",
       "      <td>0</td>\n",
       "      <td>10469.0</td>\n",
       "      <td>0.0</td>\n",
       "      <td>1.0</td>\n",
       "      <td>288000.0</td>\n",
       "    </tr>\n",
       "  </tbody>\n",
       "</table>\n",
       "</div>"
      ],
      "text/plain": [
       "   GROSS SQUARE FEET  LAND SQUARE FEET  SALE YEAR  BUILDING CLASS  ZIP CODE  \\\n",
       "0             1296.0            1667.0       2011               0   10458.0   \n",
       "1             1629.0            2060.0       2011               0   10457.0   \n",
       "2             1048.0            1209.0       2011               0   10457.0   \n",
       "3             1890.0            3203.0       2011               0   10469.0   \n",
       "4             1018.0            1785.0       2011               0   10469.0   \n",
       "\n",
       "   COMMERCIAL UNITS  TOTAL UNITS  SALE PRICE  \n",
       "0               0.0          1.0    329000.0  \n",
       "1               0.0          1.0    288500.0  \n",
       "2               0.0          1.0    122500.0  \n",
       "3               0.0          1.0    330000.0  \n",
       "4               0.0          1.0    288000.0  "
      ]
     },
     "execution_count": 45,
     "metadata": {},
     "output_type": "execute_result"
    }
   ],
   "source": [
    "data_11_20.head()"
   ]
  },
  {
   "cell_type": "code",
   "execution_count": 46,
   "metadata": {
    "pycharm": {
     "is_executing": true
    }
   },
   "outputs": [
    {
     "data": {
      "text/html": [
       "<div>\n",
       "<style scoped>\n",
       "    .dataframe tbody tr th:only-of-type {\n",
       "        vertical-align: middle;\n",
       "    }\n",
       "\n",
       "    .dataframe tbody tr th {\n",
       "        vertical-align: top;\n",
       "    }\n",
       "\n",
       "    .dataframe thead th {\n",
       "        text-align: right;\n",
       "    }\n",
       "</style>\n",
       "<table border=\"1\" class=\"dataframe\">\n",
       "  <thead>\n",
       "    <tr style=\"text-align: right;\">\n",
       "      <th></th>\n",
       "      <th></th>\n",
       "      <th>SALE PRICE</th>\n",
       "      <th>GROSS SQUARE FEET</th>\n",
       "      <th>PRICE_SQFT</th>\n",
       "    </tr>\n",
       "    <tr>\n",
       "      <th>SALE YEAR</th>\n",
       "      <th>ZIP CODE</th>\n",
       "      <th></th>\n",
       "      <th></th>\n",
       "      <th></th>\n",
       "    </tr>\n",
       "  </thead>\n",
       "  <tbody>\n",
       "    <tr>\n",
       "      <th rowspan=\"5\" valign=\"top\">2011</th>\n",
       "      <th>10003.0</th>\n",
       "      <td>12622812.0</td>\n",
       "      <td>12863.0</td>\n",
       "      <td>981.327218</td>\n",
       "    </tr>\n",
       "    <tr>\n",
       "      <th>10011.0</th>\n",
       "      <td>8150000.0</td>\n",
       "      <td>7684.0</td>\n",
       "      <td>1060.645497</td>\n",
       "    </tr>\n",
       "    <tr>\n",
       "      <th>10013.0</th>\n",
       "      <td>10065000.0</td>\n",
       "      <td>9531.0</td>\n",
       "      <td>1056.027699</td>\n",
       "    </tr>\n",
       "    <tr>\n",
       "      <th>10014.0</th>\n",
       "      <td>6330000.0</td>\n",
       "      <td>6850.0</td>\n",
       "      <td>924.087591</td>\n",
       "    </tr>\n",
       "    <tr>\n",
       "      <th>10016.0</th>\n",
       "      <td>17875000.0</td>\n",
       "      <td>21861.0</td>\n",
       "      <td>817.666163</td>\n",
       "    </tr>\n",
       "  </tbody>\n",
       "</table>\n",
       "</div>"
      ],
      "text/plain": [
       "                    SALE PRICE  GROSS SQUARE FEET   PRICE_SQFT\n",
       "SALE YEAR ZIP CODE                                            \n",
       "2011      10003.0   12622812.0            12863.0   981.327218\n",
       "          10011.0    8150000.0             7684.0  1060.645497\n",
       "          10013.0   10065000.0             9531.0  1056.027699\n",
       "          10014.0    6330000.0             6850.0   924.087591\n",
       "          10016.0   17875000.0            21861.0   817.666163"
      ]
     },
     "execution_count": 46,
     "metadata": {},
     "output_type": "execute_result"
    }
   ],
   "source": [
    "year_zipcode_data = data_11_20.groupby(['SALE YEAR','ZIP CODE']).agg({'SALE PRICE':'sum','GROSS SQUARE FEET':'sum'})\n",
    "year_zipcode_data['PRICE_SQFT'] = year_zipcode_data['SALE PRICE'] / year_zipcode_data['GROSS SQUARE FEET']\n",
    "year_zipcode_data.head()"
   ]
  },
  {
   "cell_type": "code",
   "execution_count": null,
   "metadata": {
    "pycharm": {
     "is_executing": true
    }
   },
   "outputs": [],
   "source": []
  },
  {
   "cell_type": "code",
   "execution_count": 47,
   "metadata": {
    "pycharm": {
     "is_executing": true
    }
   },
   "outputs": [],
   "source": [
    "zipcode_year_data = data_11_20.groupby(['ZIP CODE','SALE YEAR']).agg({'SALE PRICE':'sum','GROSS SQUARE FEET':'sum'})\n",
    "zipcode_year_data['PRICE_SQFT'] = zipcode_year_data['SALE PRICE'] / zipcode_year_data['GROSS SQUARE FEET']"
   ]
  },
  {
   "cell_type": "code",
   "execution_count": 48,
   "metadata": {
    "pycharm": {
     "is_executing": true
    }
   },
   "outputs": [],
   "source": [
    "zipcode_year_sqft = []\n",
    "sqft = year_zipcode_data[\"PRICE_SQFT\"].values\n",
    "for idx, line in list(enumerate(zipcode_year_data.index)):\n",
    "    zipcode, year = line\n",
    "    price_sqft = sqft[idx]\n",
    "    zipcode_year_sqft.append([zipcode, year, price_sqft])"
   ]
  },
  {
   "cell_type": "code",
   "execution_count": 49,
   "metadata": {
    "pycharm": {
     "is_executing": true
    },
    "scrolled": false
   },
   "outputs": [
    {
     "data": {
      "text/html": [
       "<div>\n",
       "<style scoped>\n",
       "    .dataframe tbody tr th:only-of-type {\n",
       "        vertical-align: middle;\n",
       "    }\n",
       "\n",
       "    .dataframe tbody tr th {\n",
       "        vertical-align: top;\n",
       "    }\n",
       "\n",
       "    .dataframe thead th {\n",
       "        text-align: right;\n",
       "    }\n",
       "</style>\n",
       "<table border=\"1\" class=\"dataframe\">\n",
       "  <thead>\n",
       "    <tr style=\"text-align: right;\">\n",
       "      <th></th>\n",
       "      <th>ZIP CODE</th>\n",
       "      <th>SALE YEAR</th>\n",
       "      <th>PRICE_SQFT</th>\n",
       "    </tr>\n",
       "  </thead>\n",
       "  <tbody>\n",
       "    <tr>\n",
       "      <th>0</th>\n",
       "      <td>10001.0</td>\n",
       "      <td>2012</td>\n",
       "      <td>981.327218</td>\n",
       "    </tr>\n",
       "    <tr>\n",
       "      <th>1</th>\n",
       "      <td>10001.0</td>\n",
       "      <td>2013</td>\n",
       "      <td>1060.645497</td>\n",
       "    </tr>\n",
       "    <tr>\n",
       "      <th>2</th>\n",
       "      <td>10001.0</td>\n",
       "      <td>2014</td>\n",
       "      <td>1056.027699</td>\n",
       "    </tr>\n",
       "    <tr>\n",
       "      <th>3</th>\n",
       "      <td>10001.0</td>\n",
       "      <td>2018</td>\n",
       "      <td>924.087591</td>\n",
       "    </tr>\n",
       "    <tr>\n",
       "      <th>4</th>\n",
       "      <td>10001.0</td>\n",
       "      <td>2020</td>\n",
       "      <td>817.666163</td>\n",
       "    </tr>\n",
       "  </tbody>\n",
       "</table>\n",
       "</div>"
      ],
      "text/plain": [
       "   ZIP CODE  SALE YEAR   PRICE_SQFT\n",
       "0   10001.0       2012   981.327218\n",
       "1   10001.0       2013  1060.645497\n",
       "2   10001.0       2014  1056.027699\n",
       "3   10001.0       2018   924.087591\n",
       "4   10001.0       2020   817.666163"
      ]
     },
     "execution_count": 49,
     "metadata": {},
     "output_type": "execute_result"
    }
   ],
   "source": [
    "zipcode_year_sqft = pd.DataFrame(zipcode_year_sqft, columns=['ZIP CODE', 'SALE YEAR', 'PRICE_SQFT']) \n",
    "zipcode_year_sqft.head()"
   ]
  },
  {
   "cell_type": "code",
   "execution_count": 50,
   "metadata": {
    "pycharm": {
     "is_executing": true
    }
   },
   "outputs": [],
   "source": [
    "sqft_2020 = zipcode_year_sqft[zipcode_year_sqft[\"SALE YEAR\"] == 2020]"
   ]
  },
  {
   "cell_type": "code",
   "execution_count": 51,
   "metadata": {
    "pycharm": {
     "is_executing": true
    }
   },
   "outputs": [],
   "source": [
    "sqft = sqft_2020[\"PRICE_SQFT\"].values"
   ]
  },
  {
   "cell_type": "code",
   "execution_count": 52,
   "metadata": {
    "pycharm": {
     "is_executing": true
    }
   },
   "outputs": [
    {
     "data": {
      "text/plain": [
       "93.93939393939394"
      ]
     },
     "execution_count": 52,
     "metadata": {},
     "output_type": "execute_result"
    }
   ],
   "source": [
    "import scipy.stats as stats\n",
    "stats.percentileofscore(sqft, 981.327218)"
   ]
  },
  {
   "cell_type": "code",
   "execution_count": 53,
   "metadata": {
    "pycharm": {
     "is_executing": true
    }
   },
   "outputs": [],
   "source": [
    "sqft_2020[\"percentile\"] = sqft_2020[\"PRICE_SQFT\"].apply(lambda x:stats.percentileofscore(sqft, x)) "
   ]
  },
  {
   "cell_type": "code",
   "execution_count": 54,
   "metadata": {
    "pycharm": {
     "is_executing": true
    }
   },
   "outputs": [
    {
     "data": {
      "text/html": [
       "<div>\n",
       "<style scoped>\n",
       "    .dataframe tbody tr th:only-of-type {\n",
       "        vertical-align: middle;\n",
       "    }\n",
       "\n",
       "    .dataframe tbody tr th {\n",
       "        vertical-align: top;\n",
       "    }\n",
       "\n",
       "    .dataframe thead th {\n",
       "        text-align: right;\n",
       "    }\n",
       "</style>\n",
       "<table border=\"1\" class=\"dataframe\">\n",
       "  <thead>\n",
       "    <tr style=\"text-align: right;\">\n",
       "      <th></th>\n",
       "      <th>ZIP CODE</th>\n",
       "      <th>SALE YEAR</th>\n",
       "      <th>PRICE_SQFT</th>\n",
       "      <th>percentile</th>\n",
       "    </tr>\n",
       "  </thead>\n",
       "  <tbody>\n",
       "    <tr>\n",
       "      <th>4</th>\n",
       "      <td>10001.0</td>\n",
       "      <td>2020</td>\n",
       "      <td>817.666163</td>\n",
       "      <td>88.484848</td>\n",
       "    </tr>\n",
       "    <tr>\n",
       "      <th>6</th>\n",
       "      <td>10002.0</td>\n",
       "      <td>2020</td>\n",
       "      <td>1010.389348</td>\n",
       "      <td>95.757576</td>\n",
       "    </tr>\n",
       "    <tr>\n",
       "      <th>11</th>\n",
       "      <td>10003.0</td>\n",
       "      <td>2020</td>\n",
       "      <td>204.262877</td>\n",
       "      <td>9.696970</td>\n",
       "    </tr>\n",
       "    <tr>\n",
       "      <th>15</th>\n",
       "      <td>10009.0</td>\n",
       "      <td>2020</td>\n",
       "      <td>222.061407</td>\n",
       "      <td>13.939394</td>\n",
       "    </tr>\n",
       "    <tr>\n",
       "      <th>20</th>\n",
       "      <td>10011.0</td>\n",
       "      <td>2020</td>\n",
       "      <td>267.255268</td>\n",
       "      <td>24.848485</td>\n",
       "    </tr>\n",
       "  </tbody>\n",
       "</table>\n",
       "</div>"
      ],
      "text/plain": [
       "    ZIP CODE  SALE YEAR   PRICE_SQFT  percentile\n",
       "4    10001.0       2020   817.666163   88.484848\n",
       "6    10002.0       2020  1010.389348   95.757576\n",
       "11   10003.0       2020   204.262877    9.696970\n",
       "15   10009.0       2020   222.061407   13.939394\n",
       "20   10011.0       2020   267.255268   24.848485"
      ]
     },
     "execution_count": 54,
     "metadata": {},
     "output_type": "execute_result"
    }
   ],
   "source": [
    "sqft_2020.head()"
   ]
  },
  {
   "cell_type": "code",
   "execution_count": 55,
   "metadata": {
    "pycharm": {
     "is_executing": true
    }
   },
   "outputs": [],
   "source": [
    "zipcode_houseprice = sqft_2020[[\"ZIP CODE\", \"percentile\"]]"
   ]
  },
  {
   "cell_type": "code",
   "execution_count": 56,
   "metadata": {
    "pycharm": {
     "is_executing": true,
     "name": "#%%\n"
    }
   },
   "outputs": [],
   "source": [
    "zipcode_houseprice.rename(columns={\"ZIP CODE\":\"zipcode\", \"percentile\":\"house_perc\"}, inplace=True)"
   ]
  },
  {
   "cell_type": "code",
   "execution_count": 57,
   "metadata": {
    "pycharm": {
     "is_executing": true
    }
   },
   "outputs": [
    {
     "data": {
      "text/html": [
       "<div>\n",
       "<style scoped>\n",
       "    .dataframe tbody tr th:only-of-type {\n",
       "        vertical-align: middle;\n",
       "    }\n",
       "\n",
       "    .dataframe tbody tr th {\n",
       "        vertical-align: top;\n",
       "    }\n",
       "\n",
       "    .dataframe thead th {\n",
       "        text-align: right;\n",
       "    }\n",
       "</style>\n",
       "<table border=\"1\" class=\"dataframe\">\n",
       "  <thead>\n",
       "    <tr style=\"text-align: right;\">\n",
       "      <th></th>\n",
       "      <th>zipcode</th>\n",
       "      <th>house_perc</th>\n",
       "    </tr>\n",
       "  </thead>\n",
       "  <tbody>\n",
       "    <tr>\n",
       "      <th>4</th>\n",
       "      <td>10001.0</td>\n",
       "      <td>88.484848</td>\n",
       "    </tr>\n",
       "    <tr>\n",
       "      <th>6</th>\n",
       "      <td>10002.0</td>\n",
       "      <td>95.757576</td>\n",
       "    </tr>\n",
       "    <tr>\n",
       "      <th>11</th>\n",
       "      <td>10003.0</td>\n",
       "      <td>9.696970</td>\n",
       "    </tr>\n",
       "    <tr>\n",
       "      <th>15</th>\n",
       "      <td>10009.0</td>\n",
       "      <td>13.939394</td>\n",
       "    </tr>\n",
       "    <tr>\n",
       "      <th>20</th>\n",
       "      <td>10011.0</td>\n",
       "      <td>24.848485</td>\n",
       "    </tr>\n",
       "  </tbody>\n",
       "</table>\n",
       "</div>"
      ],
      "text/plain": [
       "    zipcode  house_perc\n",
       "4   10001.0   88.484848\n",
       "6   10002.0   95.757576\n",
       "11  10003.0    9.696970\n",
       "15  10009.0   13.939394\n",
       "20  10011.0   24.848485"
      ]
     },
     "execution_count": 57,
     "metadata": {},
     "output_type": "execute_result"
    }
   ],
   "source": [
    "zipcode_houseprice.head()"
   ]
  },
  {
   "cell_type": "code",
   "execution_count": 58,
   "metadata": {
    "pycharm": {
     "is_executing": true
    }
   },
   "outputs": [],
   "source": [
    "zipcode_houseprice.to_csv(\"zipcode_houseprice.csv\", index=None)"
   ]
  },
  {
   "cell_type": "markdown",
   "metadata": {
    "pycharm": {
     "name": "#%% md\n"
    }
   },
   "source": [
    "## Decision Tree"
   ]
  },
  {
   "cell_type": "code",
   "execution_count": 59,
   "metadata": {
    "pycharm": {
     "is_executing": true
    }
   },
   "outputs": [
    {
     "data": {
      "text/plain": [
       "0.9927657239449461"
      ]
     },
     "execution_count": 59,
     "metadata": {},
     "output_type": "execute_result"
    }
   ],
   "source": [
    "from sklearn.tree import DecisionTreeRegressor\n",
    "tree_model=DecisionTreeRegressor()\n",
    "tree_model.fit(X_train, Y_train)\n",
    "tree_model.score(X_train, Y_train)"
   ]
  },
  {
   "cell_type": "code",
   "execution_count": 60,
   "metadata": {
    "pycharm": {
     "is_executing": true
    }
   },
   "outputs": [
    {
     "data": {
      "text/plain": [
       "29709"
      ]
     },
     "execution_count": 60,
     "metadata": {},
     "output_type": "execute_result"
    }
   ],
   "source": [
    "# Predict new result\n",
    "y_pred = tree_model.predict(X_test)\n",
    "len(y_pred)"
   ]
  },
  {
   "cell_type": "code",
   "execution_count": 61,
   "metadata": {
    "pycharm": {
     "is_executing": true
    }
   },
   "outputs": [
    {
     "data": {
      "text/plain": [
       "0.45430055155448934"
      ]
     },
     "execution_count": 61,
     "metadata": {},
     "output_type": "execute_result"
    }
   ],
   "source": [
    "tree_model.score(X_test, Y_test)"
   ]
  },
  {
   "cell_type": "code",
   "execution_count": 62,
   "metadata": {
    "pycharm": {
     "is_executing": true
    }
   },
   "outputs": [
    {
     "data": {
      "text/plain": [
       "98830590725.15211"
      ]
     },
     "execution_count": 62,
     "metadata": {},
     "output_type": "execute_result"
    }
   ],
   "source": [
    "mean_squared_error (y_pred, Y_test)"
   ]
  },
  {
   "cell_type": "code",
   "execution_count": 63,
   "metadata": {
    "pycharm": {
     "is_executing": true
    }
   },
   "outputs": [
    {
     "data": {
      "text/plain": [
       "170849.14922871068"
      ]
     },
     "execution_count": 63,
     "metadata": {},
     "output_type": "execute_result"
    }
   ],
   "source": [
    "mean_absolute_error (y_pred, Y_test)"
   ]
  },
  {
   "cell_type": "code",
   "execution_count": 86,
   "metadata": {
    "pycharm": {
     "is_executing": true
    }
   },
   "outputs": [
    {
     "data": {
      "image/png": "[encoded data removed]",
      "text/plain": [
       "<Figure size 864x576 with 1 Axes>"
      ]
     },
     "metadata": {},
     "output_type": "display_data"
    }
   ],
   "source": [
    "# # Predict new result\n",
    "# y_pred = regressor.predict(X_test)\n",
    "# Plot y_test vs y_pred\n",
    "plt.figure(figsize=(12,8))\n",
    "plt.plot(Y_test.values[:100], color='red', label=\"actual\")\n",
    "plt.plot(y_pred[:100], color='blue', label=\"predict\")\n",
    "plt.legend()\n",
    "plt.title(\"Decision Tree\")\n",
    "plt.show()"
   ]
  },
  {
   "cell_type": "code",
   "execution_count": 65,
   "metadata": {
    "pycharm": {
     "is_executing": true
    }
   },
   "outputs": [],
   "source": [
    "## predict 2020"
   ]
  },
  {
   "cell_type": "code",
   "execution_count": 66,
   "metadata": {
    "pycharm": {
     "is_executing": true
    }
   },
   "outputs": [
    {
     "data": {
      "text/html": [
       "<div>\n",
       "<style scoped>\n",
       "    .dataframe tbody tr th:only-of-type {\n",
       "        vertical-align: middle;\n",
       "    }\n",
       "\n",
       "    .dataframe tbody tr th {\n",
       "        vertical-align: top;\n",
       "    }\n",
       "\n",
       "    .dataframe thead th {\n",
       "        text-align: right;\n",
       "    }\n",
       "</style>\n",
       "<table border=\"1\" class=\"dataframe\">\n",
       "  <thead>\n",
       "    <tr style=\"text-align: right;\">\n",
       "      <th></th>\n",
       "      <th>GROSS SQUARE FEET</th>\n",
       "      <th>LAND SQUARE FEET</th>\n",
       "      <th>SALE YEAR</th>\n",
       "      <th>BUILDING CLASS</th>\n",
       "      <th>ZIP CODE</th>\n",
       "      <th>COMMERCIAL UNITS</th>\n",
       "      <th>TOTAL UNITS</th>\n",
       "    </tr>\n",
       "  </thead>\n",
       "  <tbody>\n",
       "    <tr>\n",
       "      <th>0</th>\n",
       "      <td>1296.0</td>\n",
       "      <td>1667.0</td>\n",
       "      <td>2011</td>\n",
       "      <td>0</td>\n",
       "      <td>10458.0</td>\n",
       "      <td>0.0</td>\n",
       "      <td>1.0</td>\n",
       "    </tr>\n",
       "    <tr>\n",
       "      <th>1</th>\n",
       "      <td>1629.0</td>\n",
       "      <td>2060.0</td>\n",
       "      <td>2011</td>\n",
       "      <td>0</td>\n",
       "      <td>10457.0</td>\n",
       "      <td>0.0</td>\n",
       "      <td>1.0</td>\n",
       "    </tr>\n",
       "    <tr>\n",
       "      <th>2</th>\n",
       "      <td>1048.0</td>\n",
       "      <td>1209.0</td>\n",
       "      <td>2011</td>\n",
       "      <td>0</td>\n",
       "      <td>10457.0</td>\n",
       "      <td>0.0</td>\n",
       "      <td>1.0</td>\n",
       "    </tr>\n",
       "    <tr>\n",
       "      <th>3</th>\n",
       "      <td>1890.0</td>\n",
       "      <td>3203.0</td>\n",
       "      <td>2011</td>\n",
       "      <td>0</td>\n",
       "      <td>10469.0</td>\n",
       "      <td>0.0</td>\n",
       "      <td>1.0</td>\n",
       "    </tr>\n",
       "    <tr>\n",
       "      <th>4</th>\n",
       "      <td>1018.0</td>\n",
       "      <td>1785.0</td>\n",
       "      <td>2011</td>\n",
       "      <td>0</td>\n",
       "      <td>10469.0</td>\n",
       "      <td>0.0</td>\n",
       "      <td>1.0</td>\n",
       "    </tr>\n",
       "  </tbody>\n",
       "</table>\n",
       "</div>"
      ],
      "text/plain": [
       "   GROSS SQUARE FEET  LAND SQUARE FEET  SALE YEAR  BUILDING CLASS  ZIP CODE  \\\n",
       "0             1296.0            1667.0       2011               0   10458.0   \n",
       "1             1629.0            2060.0       2011               0   10457.0   \n",
       "2             1048.0            1209.0       2011               0   10457.0   \n",
       "3             1890.0            3203.0       2011               0   10469.0   \n",
       "4             1018.0            1785.0       2011               0   10469.0   \n",
       "\n",
       "   COMMERCIAL UNITS  TOTAL UNITS  \n",
       "0               0.0          1.0  \n",
       "1               0.0          1.0  \n",
       "2               0.0          1.0  \n",
       "3               0.0          1.0  \n",
       "4               0.0          1.0  "
      ]
     },
     "execution_count": 66,
     "metadata": {},
     "output_type": "execute_result"
    }
   ],
   "source": [
    "X.head()"
   ]
  },
  {
   "cell_type": "code",
   "execution_count": 67,
   "metadata": {
    "pycharm": {
     "is_executing": true
    }
   },
   "outputs": [],
   "source": [
    "predict_2020_dataset = X[X[\"SALE YEAR\"]==2017].copy()\n",
    "unexist_ZIPCODE = list(set(list(X[\"ZIP CODE\"].unique())) - set(list(predict_2020_dataset[\"ZIP CODE\"].unique())))\n",
    "\n",
    "for zipcode in unexist_ZIPCODE:\n",
    "    new_ = X[X[\"ZIP CODE\"]==zipcode]\n",
    "    predict_2020_dataset = predict_2020_dataset.append(new_)"
   ]
  },
  {
   "cell_type": "code",
   "execution_count": 68,
   "metadata": {
    "pycharm": {
     "is_executing": true
    }
   },
   "outputs": [
    {
     "data": {
      "text/html": [
       "<div>\n",
       "<style scoped>\n",
       "    .dataframe tbody tr th:only-of-type {\n",
       "        vertical-align: middle;\n",
       "    }\n",
       "\n",
       "    .dataframe tbody tr th {\n",
       "        vertical-align: top;\n",
       "    }\n",
       "\n",
       "    .dataframe thead th {\n",
       "        text-align: right;\n",
       "    }\n",
       "</style>\n",
       "<table border=\"1\" class=\"dataframe\">\n",
       "  <thead>\n",
       "    <tr style=\"text-align: right;\">\n",
       "      <th></th>\n",
       "      <th>GROSS SQUARE FEET</th>\n",
       "      <th>LAND SQUARE FEET</th>\n",
       "      <th>SALE YEAR</th>\n",
       "      <th>BUILDING CLASS</th>\n",
       "      <th>ZIP CODE</th>\n",
       "      <th>COMMERCIAL UNITS</th>\n",
       "      <th>TOTAL UNITS</th>\n",
       "    </tr>\n",
       "  </thead>\n",
       "  <tbody>\n",
       "    <tr>\n",
       "      <th>61258</th>\n",
       "      <td>1460.0</td>\n",
       "      <td>1330.0</td>\n",
       "      <td>2020</td>\n",
       "      <td>2</td>\n",
       "      <td>10457.0</td>\n",
       "      <td>0.0</td>\n",
       "      <td>1.0</td>\n",
       "    </tr>\n",
       "    <tr>\n",
       "      <th>61259</th>\n",
       "      <td>1440.0</td>\n",
       "      <td>1306.0</td>\n",
       "      <td>2020</td>\n",
       "      <td>2</td>\n",
       "      <td>10457.0</td>\n",
       "      <td>0.0</td>\n",
       "      <td>1.0</td>\n",
       "    </tr>\n",
       "    <tr>\n",
       "      <th>61260</th>\n",
       "      <td>1440.0</td>\n",
       "      <td>1306.0</td>\n",
       "      <td>2020</td>\n",
       "      <td>2</td>\n",
       "      <td>10457.0</td>\n",
       "      <td>0.0</td>\n",
       "      <td>1.0</td>\n",
       "    </tr>\n",
       "    <tr>\n",
       "      <th>61261</th>\n",
       "      <td>1587.0</td>\n",
       "      <td>1622.0</td>\n",
       "      <td>2020</td>\n",
       "      <td>2</td>\n",
       "      <td>10457.0</td>\n",
       "      <td>0.0</td>\n",
       "      <td>1.0</td>\n",
       "    </tr>\n",
       "    <tr>\n",
       "      <th>61262</th>\n",
       "      <td>1497.0</td>\n",
       "      <td>1694.0</td>\n",
       "      <td>2020</td>\n",
       "      <td>2</td>\n",
       "      <td>10457.0</td>\n",
       "      <td>0.0</td>\n",
       "      <td>1.0</td>\n",
       "    </tr>\n",
       "  </tbody>\n",
       "</table>\n",
       "</div>"
      ],
      "text/plain": [
       "       GROSS SQUARE FEET  LAND SQUARE FEET  SALE YEAR  BUILDING CLASS  \\\n",
       "61258             1460.0            1330.0       2020               2   \n",
       "61259             1440.0            1306.0       2020               2   \n",
       "61260             1440.0            1306.0       2020               2   \n",
       "61261             1587.0            1622.0       2020               2   \n",
       "61262             1497.0            1694.0       2020               2   \n",
       "\n",
       "       ZIP CODE  COMMERCIAL UNITS  TOTAL UNITS  \n",
       "61258   10457.0               0.0          1.0  \n",
       "61259   10457.0               0.0          1.0  \n",
       "61260   10457.0               0.0          1.0  \n",
       "61261   10457.0               0.0          1.0  \n",
       "61262   10457.0               0.0          1.0  "
      ]
     },
     "execution_count": 68,
     "metadata": {},
     "output_type": "execute_result"
    }
   ],
   "source": [
    "predict_2020_dataset[\"SALE YEAR\"] = 2020\n",
    "predict_2020_dataset.head()"
   ]
  },
  {
   "cell_type": "code",
   "execution_count": 69,
   "metadata": {
    "pycharm": {
     "is_executing": true
    }
   },
   "outputs": [
    {
     "data": {
      "text/html": [
       "<div>\n",
       "<style scoped>\n",
       "    .dataframe tbody tr th:only-of-type {\n",
       "        vertical-align: middle;\n",
       "    }\n",
       "\n",
       "    .dataframe tbody tr th {\n",
       "        vertical-align: top;\n",
       "    }\n",
       "\n",
       "    .dataframe thead th {\n",
       "        text-align: right;\n",
       "    }\n",
       "</style>\n",
       "<table border=\"1\" class=\"dataframe\">\n",
       "  <thead>\n",
       "    <tr style=\"text-align: right;\">\n",
       "      <th></th>\n",
       "      <th>GROSS SQUARE FEET</th>\n",
       "      <th>LAND SQUARE FEET</th>\n",
       "      <th>SALE YEAR</th>\n",
       "      <th>BUILDING CLASS</th>\n",
       "      <th>ZIP CODE</th>\n",
       "      <th>COMMERCIAL UNITS</th>\n",
       "      <th>TOTAL UNITS</th>\n",
       "      <th>SALE PRICE</th>\n",
       "    </tr>\n",
       "  </thead>\n",
       "  <tbody>\n",
       "    <tr>\n",
       "      <th>61258</th>\n",
       "      <td>1460.0</td>\n",
       "      <td>1330.0</td>\n",
       "      <td>2020</td>\n",
       "      <td>2</td>\n",
       "      <td>10457.0</td>\n",
       "      <td>0.0</td>\n",
       "      <td>1.0</td>\n",
       "      <td>468000.0</td>\n",
       "    </tr>\n",
       "    <tr>\n",
       "      <th>61259</th>\n",
       "      <td>1440.0</td>\n",
       "      <td>1306.0</td>\n",
       "      <td>2020</td>\n",
       "      <td>2</td>\n",
       "      <td>10457.0</td>\n",
       "      <td>0.0</td>\n",
       "      <td>1.0</td>\n",
       "      <td>468000.0</td>\n",
       "    </tr>\n",
       "    <tr>\n",
       "      <th>61260</th>\n",
       "      <td>1440.0</td>\n",
       "      <td>1306.0</td>\n",
       "      <td>2020</td>\n",
       "      <td>2</td>\n",
       "      <td>10457.0</td>\n",
       "      <td>0.0</td>\n",
       "      <td>1.0</td>\n",
       "      <td>468000.0</td>\n",
       "    </tr>\n",
       "    <tr>\n",
       "      <th>61261</th>\n",
       "      <td>1587.0</td>\n",
       "      <td>1622.0</td>\n",
       "      <td>2020</td>\n",
       "      <td>2</td>\n",
       "      <td>10457.0</td>\n",
       "      <td>0.0</td>\n",
       "      <td>1.0</td>\n",
       "      <td>182500.0</td>\n",
       "    </tr>\n",
       "    <tr>\n",
       "      <th>61262</th>\n",
       "      <td>1497.0</td>\n",
       "      <td>1694.0</td>\n",
       "      <td>2020</td>\n",
       "      <td>2</td>\n",
       "      <td>10457.0</td>\n",
       "      <td>0.0</td>\n",
       "      <td>1.0</td>\n",
       "      <td>415000.0</td>\n",
       "    </tr>\n",
       "  </tbody>\n",
       "</table>\n",
       "</div>"
      ],
      "text/plain": [
       "       GROSS SQUARE FEET  LAND SQUARE FEET  SALE YEAR  BUILDING CLASS  \\\n",
       "61258             1460.0            1330.0       2020               2   \n",
       "61259             1440.0            1306.0       2020               2   \n",
       "61260             1440.0            1306.0       2020               2   \n",
       "61261             1587.0            1622.0       2020               2   \n",
       "61262             1497.0            1694.0       2020               2   \n",
       "\n",
       "       ZIP CODE  COMMERCIAL UNITS  TOTAL UNITS  SALE PRICE  \n",
       "61258   10457.0               0.0          1.0    468000.0  \n",
       "61259   10457.0               0.0          1.0    468000.0  \n",
       "61260   10457.0               0.0          1.0    468000.0  \n",
       "61261   10457.0               0.0          1.0    182500.0  \n",
       "61262   10457.0               0.0          1.0    415000.0  "
      ]
     },
     "execution_count": 69,
     "metadata": {},
     "output_type": "execute_result"
    }
   ],
   "source": [
    "pred_2020_values = tree_model.predict(predict_2020_dataset)\n",
    "predict_2020_dataset[\"SALE PRICE\"] = pred_2020_values\n",
    "predict_2020_dataset.head()"
   ]
  },
  {
   "cell_type": "code",
   "execution_count": 70,
   "metadata": {
    "pycharm": {
     "is_executing": true
    }
   },
   "outputs": [],
   "source": [
    "alldata = X.copy()\n",
    "alldata[\"SALE PRICE\"] = y"
   ]
  },
  {
   "cell_type": "code",
   "execution_count": 71,
   "metadata": {
    "pycharm": {
     "is_executing": true
    }
   },
   "outputs": [
    {
     "data": {
      "text/html": [
       "<div>\n",
       "<style scoped>\n",
       "    .dataframe tbody tr th:only-of-type {\n",
       "        vertical-align: middle;\n",
       "    }\n",
       "\n",
       "    .dataframe tbody tr th {\n",
       "        vertical-align: top;\n",
       "    }\n",
       "\n",
       "    .dataframe thead th {\n",
       "        text-align: right;\n",
       "    }\n",
       "</style>\n",
       "<table border=\"1\" class=\"dataframe\">\n",
       "  <thead>\n",
       "    <tr style=\"text-align: right;\">\n",
       "      <th></th>\n",
       "      <th>GROSS SQUARE FEET</th>\n",
       "      <th>LAND SQUARE FEET</th>\n",
       "      <th>SALE YEAR</th>\n",
       "      <th>BUILDING CLASS</th>\n",
       "      <th>ZIP CODE</th>\n",
       "      <th>COMMERCIAL UNITS</th>\n",
       "      <th>TOTAL UNITS</th>\n",
       "      <th>SALE PRICE</th>\n",
       "    </tr>\n",
       "  </thead>\n",
       "  <tbody>\n",
       "    <tr>\n",
       "      <th>0</th>\n",
       "      <td>1296.0</td>\n",
       "      <td>1667.0</td>\n",
       "      <td>2011</td>\n",
       "      <td>0</td>\n",
       "      <td>10458.0</td>\n",
       "      <td>0.0</td>\n",
       "      <td>1.0</td>\n",
       "      <td>329000.0</td>\n",
       "    </tr>\n",
       "    <tr>\n",
       "      <th>1</th>\n",
       "      <td>1629.0</td>\n",
       "      <td>2060.0</td>\n",
       "      <td>2011</td>\n",
       "      <td>0</td>\n",
       "      <td>10457.0</td>\n",
       "      <td>0.0</td>\n",
       "      <td>1.0</td>\n",
       "      <td>288500.0</td>\n",
       "    </tr>\n",
       "    <tr>\n",
       "      <th>2</th>\n",
       "      <td>1048.0</td>\n",
       "      <td>1209.0</td>\n",
       "      <td>2011</td>\n",
       "      <td>0</td>\n",
       "      <td>10457.0</td>\n",
       "      <td>0.0</td>\n",
       "      <td>1.0</td>\n",
       "      <td>122500.0</td>\n",
       "    </tr>\n",
       "    <tr>\n",
       "      <th>3</th>\n",
       "      <td>1890.0</td>\n",
       "      <td>3203.0</td>\n",
       "      <td>2011</td>\n",
       "      <td>0</td>\n",
       "      <td>10469.0</td>\n",
       "      <td>0.0</td>\n",
       "      <td>1.0</td>\n",
       "      <td>330000.0</td>\n",
       "    </tr>\n",
       "    <tr>\n",
       "      <th>4</th>\n",
       "      <td>1018.0</td>\n",
       "      <td>1785.0</td>\n",
       "      <td>2011</td>\n",
       "      <td>0</td>\n",
       "      <td>10469.0</td>\n",
       "      <td>0.0</td>\n",
       "      <td>1.0</td>\n",
       "      <td>288000.0</td>\n",
       "    </tr>\n",
       "  </tbody>\n",
       "</table>\n",
       "</div>"
      ],
      "text/plain": [
       "   GROSS SQUARE FEET  LAND SQUARE FEET  SALE YEAR  BUILDING CLASS  ZIP CODE  \\\n",
       "0             1296.0            1667.0       2011               0   10458.0   \n",
       "1             1629.0            2060.0       2011               0   10457.0   \n",
       "2             1048.0            1209.0       2011               0   10457.0   \n",
       "3             1890.0            3203.0       2011               0   10469.0   \n",
       "4             1018.0            1785.0       2011               0   10469.0   \n",
       "\n",
       "   COMMERCIAL UNITS  TOTAL UNITS  SALE PRICE  \n",
       "0               0.0          1.0    329000.0  \n",
       "1               0.0          1.0    288500.0  \n",
       "2               0.0          1.0    122500.0  \n",
       "3               0.0          1.0    330000.0  \n",
       "4               0.0          1.0    288000.0  "
      ]
     },
     "execution_count": 71,
     "metadata": {},
     "output_type": "execute_result"
    }
   ],
   "source": [
    "data_11_20 = alldata.append(predict_2020_dataset)\n",
    "data_11_20.head()"
   ]
  },
  {
   "cell_type": "code",
   "execution_count": 72,
   "metadata": {
    "pycharm": {
     "is_executing": true
    }
   },
   "outputs": [],
   "source": [
    "SalesYear = data_11_20.groupby(['SALE YEAR']).agg({'SALE PRICE':'sum','GROSS SQUARE FEET':'sum'})\n",
    "SalesYear['PriceperSQFT'] = SalesYear['SALE PRICE'] / SalesYear['GROSS SQUARE FEET']"
   ]
  },
  {
   "cell_type": "code",
   "execution_count": 73,
   "metadata": {
    "pycharm": {
     "is_executing": true
    }
   },
   "outputs": [
    {
     "data": {
      "text/html": [
       "<div>\n",
       "<style scoped>\n",
       "    .dataframe tbody tr th:only-of-type {\n",
       "        vertical-align: middle;\n",
       "    }\n",
       "\n",
       "    .dataframe tbody tr th {\n",
       "        vertical-align: top;\n",
       "    }\n",
       "\n",
       "    .dataframe thead th {\n",
       "        text-align: right;\n",
       "    }\n",
       "</style>\n",
       "<table border=\"1\" class=\"dataframe\">\n",
       "  <thead>\n",
       "    <tr style=\"text-align: right;\">\n",
       "      <th></th>\n",
       "      <th>SALE PRICE</th>\n",
       "      <th>GROSS SQUARE FEET</th>\n",
       "      <th>PriceperSQFT</th>\n",
       "    </tr>\n",
       "    <tr>\n",
       "      <th>SALE YEAR</th>\n",
       "      <th></th>\n",
       "      <th></th>\n",
       "      <th></th>\n",
       "    </tr>\n",
       "  </thead>\n",
       "  <tbody>\n",
       "    <tr>\n",
       "      <th>2011</th>\n",
       "      <td>3.698760e+09</td>\n",
       "      <td>12957452.0</td>\n",
       "      <td>285.454231</td>\n",
       "    </tr>\n",
       "    <tr>\n",
       "      <th>2012</th>\n",
       "      <td>4.305591e+09</td>\n",
       "      <td>14914505.0</td>\n",
       "      <td>288.684790</td>\n",
       "    </tr>\n",
       "    <tr>\n",
       "      <th>2013</th>\n",
       "      <td>5.163403e+09</td>\n",
       "      <td>17211876.0</td>\n",
       "      <td>299.990726</td>\n",
       "    </tr>\n",
       "    <tr>\n",
       "      <th>2014</th>\n",
       "      <td>5.551956e+09</td>\n",
       "      <td>17550008.0</td>\n",
       "      <td>316.350621</td>\n",
       "    </tr>\n",
       "    <tr>\n",
       "      <th>2015</th>\n",
       "      <td>6.574563e+09</td>\n",
       "      <td>18341290.0</td>\n",
       "      <td>358.456946</td>\n",
       "    </tr>\n",
       "    <tr>\n",
       "      <th>2016</th>\n",
       "      <td>7.205983e+09</td>\n",
       "      <td>20235251.0</td>\n",
       "      <td>356.110400</td>\n",
       "    </tr>\n",
       "    <tr>\n",
       "      <th>2017</th>\n",
       "      <td>8.151779e+09</td>\n",
       "      <td>20018602.0</td>\n",
       "      <td>407.210188</td>\n",
       "    </tr>\n",
       "    <tr>\n",
       "      <th>2018</th>\n",
       "      <td>8.320366e+09</td>\n",
       "      <td>19578071.0</td>\n",
       "      <td>424.983941</td>\n",
       "    </tr>\n",
       "    <tr>\n",
       "      <th>2019</th>\n",
       "      <td>7.956392e+09</td>\n",
       "      <td>18297794.0</td>\n",
       "      <td>434.827915</td>\n",
       "    </tr>\n",
       "    <tr>\n",
       "      <th>2020</th>\n",
       "      <td>9.172915e+09</td>\n",
       "      <td>20503249.0</td>\n",
       "      <td>447.388355</td>\n",
       "    </tr>\n",
       "  </tbody>\n",
       "</table>\n",
       "</div>"
      ],
      "text/plain": [
       "             SALE PRICE  GROSS SQUARE FEET  PriceperSQFT\n",
       "SALE YEAR                                               \n",
       "2011       3.698760e+09         12957452.0    285.454231\n",
       "2012       4.305591e+09         14914505.0    288.684790\n",
       "2013       5.163403e+09         17211876.0    299.990726\n",
       "2014       5.551956e+09         17550008.0    316.350621\n",
       "2015       6.574563e+09         18341290.0    358.456946\n",
       "2016       7.205983e+09         20235251.0    356.110400\n",
       "2017       8.151779e+09         20018602.0    407.210188\n",
       "2018       8.320366e+09         19578071.0    424.983941\n",
       "2019       7.956392e+09         18297794.0    434.827915\n",
       "2020       9.172915e+09         20503249.0    447.388355"
      ]
     },
     "execution_count": 73,
     "metadata": {},
     "output_type": "execute_result"
    }
   ],
   "source": [
    "SalesYear"
   ]
  },
  {
   "cell_type": "code",
   "execution_count": 88,
   "metadata": {
    "pycharm": {
     "is_executing": true,
     "name": "#%%\n"
    }
   },
   "outputs": [
    {
     "data": {
      "text/plain": [
       "Text(0.5, 1.0, 'Decision Tree')"
      ]
     },
     "execution_count": 88,
     "metadata": {},
     "output_type": "execute_result"
    },
    {
     "data": {
      "image/png": "[encoded data removed]",
      "text/plain": [
       "<Figure size 432x288 with 1 Axes>"
      ]
     },
     "metadata": {},
     "output_type": "display_data"
    }
   ],
   "source": [
    "SalesYear.plot(y = 'PriceperSQFT', use_index = True)\n",
    "plt.title(\"Decision Tree\")"
   ]
  },
  {
   "cell_type": "code",
   "execution_count": null,
   "metadata": {
    "pycharm": {
     "is_executing": true
    }
   },
   "outputs": [],
   "source": []
  },
  {
   "cell_type": "code",
   "execution_count": null,
   "metadata": {
    "pycharm": {
     "is_executing": true
    }
   },
   "outputs": [],
   "source": []
  },
  {
   "cell_type": "markdown",
   "metadata": {
    "pycharm": {
     "name": "#%% md\n"
    }
   },
   "source": [
    "## Bayesian model"
   ]
  },
  {
   "cell_type": "code",
   "execution_count": 75,
   "metadata": {
    "pycharm": {
     "is_executing": true
    }
   },
   "outputs": [],
   "source": [
    "# # PyMC3 for Bayesian Inference\n",
    "# import pymc3 as pm\n",
    "# import arviz"
   ]
  },
  {
   "cell_type": "code",
   "execution_count": 76,
   "metadata": {
    "pycharm": {
     "is_executing": true
    }
   },
   "outputs": [],
   "source": [
    "# X.head()"
   ]
  },
  {
   "cell_type": "code",
   "execution_count": 77,
   "metadata": {
    "pycharm": {
     "is_executing": true
    }
   },
   "outputs": [],
   "source": [
    "# y.head()"
   ]
  },
  {
   "cell_type": "code",
   "execution_count": 78,
   "metadata": {
    "pycharm": {
     "is_executing": true
    }
   },
   "outputs": [],
   "source": [
    "# ## mutivariate regression\n",
    "\n",
    "# formula = 'sale_price ~ ' + ' + '.join(['%s' % variable for variable in X.columns])\n",
    "# formula"
   ]
  },
  {
   "cell_type": "code",
   "execution_count": 79,
   "metadata": {
    "pycharm": {
     "is_executing": true
    }
   },
   "outputs": [],
   "source": [
    "# print(np.mean(X[\"GROSS SQUARE FEET\"]), np.std(X[\"GROSS SQUARE FEET\"]))"
   ]
  },
  {
   "cell_type": "code",
   "execution_count": 80,
   "metadata": {
    "pycharm": {
     "is_executing": true
    }
   },
   "outputs": [],
   "source": [
    "# # Uniform\n",
    "# with pm.Model() as normal_model:\n",
    "    \n",
    "#     # The prior for the model parameters\n",
    "    \n",
    "#     beta1 = pm.Normal('GROSS SQUARE FEET', mu=1606, sd=755) \n",
    "#     beta2 = pm.Normal('LAND SQUARE FEET', mu=3287, sd=2510)\n",
    "#     beta3 = pm.Normal('SALE YEAR', mu=2015, sd=3)\n",
    "# #     beta4 = pm.Normal('BUILDING CLASS', mu=1.2145374, sd=0.70868772)\n",
    "# #     beta5 = pm.Normal('ZIP CODE', mu=11005, sd=488)\n",
    "# #     beta6 = pm.Normal('COMMERCIAL UNITS', mu=0.01839, sd=0.140271)\n",
    "# #     beta7 = pm.Normal('TOTAL UNITS', mu=1.0230, sd=0.2599)\n",
    "#     sigma = 8000\n",
    "\n",
    "#     # Creating the model requires a formula and data (and optionally a family)\n",
    "# #     mean = beta1 * X['GROSS SQUARE FEET'] + beta2 * X['LAND SQUARE FEET'] + beta3 * X['SALE YEAR'] + beta4 * X['BUILDING CLASS'] + beta5 * X['ZIP CODE'] + beta6 * X['COMMERCIAL UNITS'] + beta7 * X['TOTAL UNITS']\n",
    "#     mean = beta1 * X['GROSS SQUARE FEET'] + beta2 * X['LAND SQUARE FEET'] + beta3 * X['SALE YEAR'] \n",
    "    \n",
    "#     # Observed values\n",
    "#     Y_obs = pm.Normal('Y_obs', mu = mean, sd = sigma, observed = y)\n",
    "    \n",
    "#     # MCMC sampling\n",
    "#     # We use the Maximum a Posteriori (MAP) values as starting values for the MCMC sampling.\n",
    "# #     start = pm.find_MAP()\n",
    "#     trace = pm.sample(100, progressbar=True)"
   ]
  },
  {
   "cell_type": "code",
   "execution_count": null,
   "metadata": {
    "pycharm": {
     "name": "#%%\n"
    }
   },
   "outputs": [],
   "source": [
    "# fig = pm.traceplot(trace[199:1000])\n",
    "# plt.figure(figsize = (10, 10))"
   ]
  },
  {
   "cell_type": "code",
   "execution_count": null,
   "metadata": {
    "pycharm": {
     "name": "#%%\n"
    }
   },
   "outputs": [],
   "source": [
    "# pm.plot_posterior(trace, figsize = (14, 14), text_size=20);"
   ]
  },
  {
   "cell_type": "code",
   "execution_count": null,
   "metadata": {
    "pycharm": {
     "name": "#%%\n"
    }
   },
   "outputs": [],
   "source": [
    "# ## Linear Formula from Bayesian Inference using Mean of Parameters\n",
    "\n",
    "# model_formula = 'sale_price = '\n",
    "# for variable in trace.varnames:\n",
    "#     model_formula += ' %0.2f * %s +' % (np.mean(trace[variable]), variable)\n",
    "\n",
    "# ' '.join(model_formula.split(' ')[:-1])"
   ]
  },
  {
   "cell_type": "code",
   "execution_count": 81,
   "metadata": {
    "pycharm": {
     "is_executing": true
    }
   },
   "outputs": [],
   "source": []
  },
  {
   "cell_type": "code",
   "execution_count": 82,
   "metadata": {
    "pycharm": {
     "is_executing": true
    }
   },
   "outputs": [],
   "source": [
    "# pm.plot_posterior(trace, figsize = (14, 14), text_size=20);"
   ]
  },
  {
   "cell_type": "code",
   "execution_count": 83,
   "metadata": {
    "pycharm": {
     "is_executing": true
    }
   },
   "outputs": [],
   "source": [
    "# ## Linear Formula from Bayesian Inference using Mean of Parameters\n",
    "\n",
    "# model_formula = 'sale_price = '\n",
    "# for variable in trace.varnames:\n",
    "#     model_formula += ' %0.2f * %s +' % (np.mean(trace[variable]), variable)\n",
    "\n",
    "# ' '.join(model_formula.split(' ')[:-1])"
   ]
  },
  {
   "cell_type": "code",
   "execution_count": null,
   "metadata": {
    "pycharm": {
     "is_executing": true
    }
   },
   "outputs": [],
   "source": []
  }
 ],
 "metadata": {
  "kernelspec": {
   "display_name": "Python 3",
   "language": "python",
   "name": "python3"
  },
  "language_info": {
   "codemirror_mode": {
    "name": "ipython",
    "version": 3
   },
   "file_extension": ".py",
   "mimetype": "text/x-python",
   "name": "python",
   "nbconvert_exporter": "python",
   "pygments_lexer": "ipython3",
   "version": "3.7.9"
  }
 },
 "nbformat": 4,
 "nbformat_minor": 1
}
